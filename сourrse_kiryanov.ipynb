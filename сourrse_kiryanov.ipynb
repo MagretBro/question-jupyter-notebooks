{
 "cells": [
  {
   "cell_type": "code",
   "execution_count": null,
   "id": "1f5436b0-eae7-4f75-9863-e1386e3c8c83",
   "metadata": {},
   "outputs": [],
   "source": [
    "Хирьянов Анализ данных на Питон"
   ]
  },
  {
   "cell_type": "code",
   "execution_count": null,
   "id": "400f03d6-62dc-480f-8f81-3041f66e9804",
   "metadata": {},
   "outputs": [],
   "source": [
    "раньше:\n",
    "Инкапсуляция\n",
    "Полиморфизм\n",
    "Абстракция"
   ]
  },
  {
   "cell_type": "code",
   "execution_count": null,
   "id": "5d59ca9e-5e65-4cd9-9d00-6761d2494a56",
   "metadata": {},
   "outputs": [],
   "source": [
    "сейчас ООП - как разбить прогу на понятные людям сущности:\n",
    "\n",
    "SOLID:\n",
    "S single - При создании класса - даем одно назначение. не божественный объект\n",
    "\n",
    "O open-closed - открытость и закрытость - классы и модули - не должны были быть изменениы\n",
    "но могло быть расширено\n",
    "например - \n",
    "авто - руль - публичное управление, как - внутреннее\n",
    "принцип - добавить кнопку света. это не мешает ездить\n",
    "то есть обратная совместимость\n",
    "то есть можно расширить, но не убрать\n",
    "\n",
    "L - наследование - выполнение ребенком делается как родителем\n",
    "\n",
    "I - принцип разделения интерфейсов - швейцарские ножи - плохо, но есть нюансы\n",
    "\n",
    "D - инверсия зависимостей - не от конкретного объекта, а от абстракции. абстрактные классы в питоне.\n",
    "\n",
    "любую логику можно запрограммировать любым языком."
   ]
  },
  {
   "cell_type": "code",
   "execution_count": null,
   "id": "12641112-f44c-425d-942e-d85d08389cee",
   "metadata": {},
   "outputs": [],
   "source": [
    "пример класса\n",
    "class C:\n",
    "    pass\n",
    "name-cl = name_cl()\n",
    "\n",
    "\n",
    "class Rectangle:\n",
    "    default_color = \"red\"\n",
    "    def_init_(self, width, height):\n",
    "    self.width = width   -- атрибут\n",
    "    self.height = height -- атрибут\n",
    "\n",
    "\n",
    "магические символы\n",
    "\n",
    "__- альфа леттрс (2 подчеркивания)\n",
    "__add__ - это спец метод - должно быть встроено конкретным методом\n",
    "они есть в справочнике магические методы python\n",
    "\n",
    "\n",
    "__init__  - инициализация\n",
    "\n",
    "__del__   - закрытие объекта, деструктор объекта\n",
    "\n",
    "\n",
    "статистич и классовые методы\n",
    "\n",
    "// статистич\n",
    "class ToyClass:\n",
    "    def insmethod(self): \n",
    "        return 'instance method called', cls\n",
    "\n",
    "    @classmethod\n",
    "    def classmethod(cls): -- испоьзуется параметр\n",
    "        return 'class method called', cls\n",
    "        \n",
    "    @cstaticmethod   -- статический метод, без параметров, он не знает с каким параметром работает\n",
    "    def cstaticmethod(cls):\n",
    "        return 'static method called', cls\n",
    "\n",
    "\n",
    "абстрактные классы\n"
   ]
  },
  {
   "cell_type": "code",
   "execution_count": null,
   "id": "c2399248-6fb8-4d01-8b9f-b113851dbbc8",
   "metadata": {},
   "outputs": [],
   "source": [
    "Императивные (алгоритимические) и функциональные (декларативные) и логические языки\n",
    "\n",
    "Императивные: пишется код по шагам для выполнения задачи\n",
    "Функциональные: выполнение задач с помощью функций. JS, Python, C++, C#, C"
   ]
  },
  {
   "cell_type": "code",
   "execution_count": 2,
   "id": "1fe2b1cb-eb89-4b29-bdb9-ccc0eedc25a8",
   "metadata": {},
   "outputs": [
    {
     "name": "stdout",
     "output_type": "stream",
     "text": [
      "<generator object <genexpr> at 0x1037c0e40>\n"
     ]
    }
   ],
   "source": [
    "# итерация запроса. функциональное программирование. отложенные вычисления\n",
    "\n",
    "def f(x):\n",
    "    print(f'calculating {x}*10')\n",
    "a = (1, 2, 3, 4, 5)\n",
    "b = (f(x) for x in a)\n",
    "print(b)"
   ]
  },
  {
   "cell_type": "code",
   "execution_count": 3,
   "id": "7f3e0f33-ab12-4503-8b64-13184b66de93",
   "metadata": {},
   "outputs": [
    {
     "name": "stdout",
     "output_type": "stream",
     "text": [
      "(1, 2, 3, 4, 5)\n"
     ]
    }
   ],
   "source": [
    "print(a)"
   ]
  },
  {
   "cell_type": "code",
   "execution_count": 14,
   "id": "ae8caf4c-7e2c-422e-9c99-1b571343c485",
   "metadata": {},
   "outputs": [
    {
     "name": "stdout",
     "output_type": "stream",
     "text": [
      "calculating 1*10\n",
      "10\n",
      "calculating 2*10\n",
      "20\n",
      "calculating 3*10\n",
      "30\n",
      "calculating 4*10\n",
      "40\n",
      "calculating 5*10\n",
      "50\n"
     ]
    }
   ],
   "source": [
    "# итерация запроса. функциональное программирование. отложенные вычисления\n",
    "\n",
    "def f(x):\n",
    "    print(f'calculating {x}*10')\n",
    "    return x*10\n",
    "    \n",
    "a = (1, 2, 3, 4, 5)\n",
    "b = (f(x) for x in a)\n",
    "\n",
    "for y in b:\n",
    "    print(y)"
   ]
  },
  {
   "cell_type": "code",
   "execution_count": null,
   "id": "258585ca-8711-4481-b664-e7e38715a8d0",
   "metadata": {},
   "outputs": [],
   "source": [
    "функция высшего порядка\n"
   ]
  },
  {
   "cell_type": "code",
   "execution_count": null,
   "id": "ba1c9cde-5567-4ed6-a6f2-b0871d3438b0",
   "metadata": {},
   "outputs": [],
   "source": []
  }
 ],
 "metadata": {
  "kernelspec": {
   "display_name": "Python 3 (ipykernel)",
   "language": "python",
   "name": "python3"
  },
  "language_info": {
   "codemirror_mode": {
    "name": "ipython",
    "version": 3
   },
   "file_extension": ".py",
   "mimetype": "text/x-python",
   "name": "python",
   "nbconvert_exporter": "python",
   "pygments_lexer": "ipython3",
   "version": "3.10.13"
  }
 },
 "nbformat": 4,
 "nbformat_minor": 5
}
