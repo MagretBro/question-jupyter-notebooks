{
 "cells": [
  {
   "cell_type": "code",
   "execution_count": null,
   "id": "1f5436b0-eae7-4f75-9863-e1386e3c8c83",
   "metadata": {},
   "outputs": [],
   "source": [
    "Хирьянов Анализ данных на Питон"
   ]
  },
  {
   "cell_type": "code",
   "execution_count": null,
   "id": "400f03d6-62dc-480f-8f81-3041f66e9804",
   "metadata": {},
   "outputs": [],
   "source": [
    "раньше:\n",
    "Инкапсуляция\n",
    "Полиморфизм\n",
    "Абстракция"
   ]
  },
  {
   "cell_type": "code",
   "execution_count": null,
   "id": "5d59ca9e-5e65-4cd9-9d00-6761d2494a56",
   "metadata": {},
   "outputs": [],
   "source": [
    "сейчас ООП - как разбить прогу на понятные людям сущности:\n",
    "\n",
    "SOLID:\n",
    "S single - При создании класса - даем одно назначение. не божественный объект\n",
    "\n",
    "O open-closed - открытость и закрытость - классы и модули - не должны были быть изменениы\n",
    "но могло быть расширено\n",
    "например - \n",
    "авто - руль - публичное управление, как - внутреннее\n",
    "принцип - добавить кнопку света. это не мешает ездить\n",
    "то есть обратная совместимость\n",
    "то есть можно расширить, но не убрать\n",
    "\n",
    "L - наследование - выполнение ребенком делается как родителем\n",
    "\n",
    "I - принцип разделения интерфейсов - швейцарские ножи - плохо, но есть нюансы\n",
    "\n",
    "D - инверсия зависимостей - не от конкретного объекта, а от абстракции. абстрактные классы в питоне.\n",
    "\n",
    "любую логику можно запрограммировать любым языком."
   ]
  },
  {
   "cell_type": "code",
   "execution_count": null,
   "id": "12641112-f44c-425d-942e-d85d08389cee",
   "metadata": {},
   "outputs": [],
   "source": [
    "пример класса\n",
    "class C:\n",
    "    pass\n",
    "name-cl = name_cl()\n",
    "\n",
    "\n",
    "class Rectangle:\n",
    "    default_color = \"red\"\n",
    "    def_init_(self, width, height):\n",
    "    self.width = width   -- атрибут\n",
    "    self.height = height -- атрибут\n",
    "\n",
    "\n",
    "магические символы\n",
    "\n",
    "__- альфа леттрс (2 подчеркивания)\n",
    "__add__ - это спец метод - должно быть встроено конкретным методом\n",
    "они есть в справочнике магические методы python\n",
    "\n",
    "\n",
    "__init__  - инициализация\n",
    "\n",
    "__del__   - закрытие объекта, деструктор объекта\n",
    "\n",
    "\n",
    "статистич и классовые методы\n",
    "\n",
    "// статистич\n",
    "class ToyClass:\n",
    "    def insmethod(self): \n",
    "        return 'instance method called', cls\n",
    "\n",
    "    @classmethod\n",
    "    def classmethod(cls): -- испоьзуется параметр\n",
    "        return 'class method called', cls\n",
    "        \n",
    "    @cstaticmethod   -- статический метод, без параметров, он не знает с каким параметром работает\n",
    "    def cstaticmethod(cls):\n",
    "        return 'static method called', cls\n",
    "\n",
    "\n",
    "абстрактные классы\n"
   ]
  },
  {
   "cell_type": "code",
   "execution_count": null,
   "id": "c2399248-6fb8-4d01-8b9f-b113851dbbc8",
   "metadata": {},
   "outputs": [],
   "source": [
    "Императивные (алгоритимические) и функциональные (декларативные) и логические языки\n",
    "\n",
    "Императивные: пишется код по шагам для выполнения задачи\n",
    "Функциональные: выполнение задач с помощью функций. JS, Python, C++, C#, C"
   ]
  },
  {
   "cell_type": "code",
   "execution_count": 2,
   "id": "1fe2b1cb-eb89-4b29-bdb9-ccc0eedc25a8",
   "metadata": {},
   "outputs": [
    {
     "name": "stdout",
     "output_type": "stream",
     "text": [
      "<generator object <genexpr> at 0x1037c0e40>\n"
     ]
    }
   ],
   "source": [
    "# итерация запроса. функциональное программирование. отложенные вычисления\n",
    "\n",
    "def f(x):\n",
    "    print(f'calculating {x}*10')\n",
    "a = (1, 2, 3, 4, 5)\n",
    "b = (f(x) for x in a)\n",
    "print(b)"
   ]
  },
  {
   "cell_type": "code",
   "execution_count": 3,
   "id": "7f3e0f33-ab12-4503-8b64-13184b66de93",
   "metadata": {},
   "outputs": [
    {
     "name": "stdout",
     "output_type": "stream",
     "text": [
      "(1, 2, 3, 4, 5)\n"
     ]
    }
   ],
   "source": [
    "print(a)"
   ]
  },
  {
   "cell_type": "code",
   "execution_count": 14,
   "id": "ae8caf4c-7e2c-422e-9c99-1b571343c485",
   "metadata": {},
   "outputs": [
    {
     "name": "stdout",
     "output_type": "stream",
     "text": [
      "calculating 1*10\n",
      "10\n",
      "calculating 2*10\n",
      "20\n",
      "calculating 3*10\n",
      "30\n",
      "calculating 4*10\n",
      "40\n",
      "calculating 5*10\n",
      "50\n"
     ]
    }
   ],
   "source": [
    "# итерация запроса. функциональное программирование. отложенные вычисления\n",
    "\n",
    "def f(x):\n",
    "    print(f'calculating {x}*10')\n",
    "    return x*10\n",
    "    \n",
    "a = (1, 2, 3, 4, 5)\n",
    "b = (f(x) for x in a) # отложенные вычисления\n",
    "\n",
    "for y in b:\n",
    "    print(y)"
   ]
  },
  {
   "cell_type": "code",
   "execution_count": 2,
   "id": "ba1c9cde-5567-4ed6-a6f2-b0871d3438b0",
   "metadata": {},
   "outputs": [
    {
     "data": {
      "text/plain": [
       "generator"
      ]
     },
     "execution_count": 2,
     "metadata": {},
     "output_type": "execute_result"
    }
   ],
   "source": [
    "def f(x):\n",
    "    print(f'calculating {x}*10')\n",
    "    return x*10\n",
    "    \n",
    "a = (1, 2, 3, 4, 5)\n",
    "b = (f(x) for x in a) # отложенные вычисления\n",
    "\n",
    "type(b)"
   ]
  },
  {
   "cell_type": "code",
   "execution_count": null,
   "id": "9f0d452f-1c42-48c8-8b65-a693ebb6d457",
   "metadata": {},
   "outputs": [],
   "source": [
    "функция высшего порядка\n"
   ]
  },
  {
   "cell_type": "code",
   "execution_count": null,
   "id": "3973afd5-d101-44d8-80a8-7ab9dc037803",
   "metadata": {},
   "outputs": [],
   "source": [
    "функция 1го рода\n",
    "можно сделать последовательность функций\n",
    "повторное выполнение функции"
   ]
  },
  {
   "cell_type": "code",
   "execution_count": 12,
   "id": "bbb3bb78-319f-4fe4-8ce4-b9baf7541c7c",
   "metadata": {},
   "outputs": [
    {
     "name": "stdout",
     "output_type": "stream",
     "text": [
      "500\n"
     ]
    }
   ],
   "source": [
    "def double_performer(f, x):\n",
    "    return f(f(x))\n",
    "\n",
    "def f(x): return x * 10   \n",
    "\n",
    "print(double_performer(f, 5))"
   ]
  },
  {
   "cell_type": "code",
   "execution_count": 16,
   "id": "c72a05b5-b832-4877-9ccc-bedf7aee5848",
   "metadata": {},
   "outputs": [],
   "source": [
    "def f2(x): return x*x\n",
    "def f3(x): return -x"
   ]
  },
  {
   "cell_type": "code",
   "execution_count": 17,
   "id": "a479eb60-0acf-4da7-9fdb-52b7dd69ab13",
   "metadata": {},
   "outputs": [
    {
     "name": "stdout",
     "output_type": "stream",
     "text": [
      "30\n"
     ]
    }
   ],
   "source": [
    "f1 = f\n",
    "print(f1(3))"
   ]
  },
  {
   "cell_type": "code",
   "execution_count": 18,
   "id": "4f28ce40-8d5e-498e-b272-305850aab46b",
   "metadata": {},
   "outputs": [
    {
     "name": "stdout",
     "output_type": "stream",
     "text": [
      "500\n",
      "625\n",
      "5\n"
     ]
    }
   ],
   "source": [
    "# функция возвращает функцию\n",
    "for f in f1,f2,f3: \n",
    "    y = double_performer(f, 5)\n",
    "    print(y)"
   ]
  },
  {
   "cell_type": "code",
   "execution_count": 22,
   "id": "fce47086-9822-4339-b58c-8d5b97d8e29c",
   "metadata": {},
   "outputs": [
    {
     "data": {
      "text/plain": [
       "map"
      ]
     },
     "execution_count": 22,
     "metadata": {},
     "output_type": "execute_result"
    }
   ],
   "source": [
    "#map\n",
    "c = map(f1, a)\n",
    "type(c)"
   ]
  },
  {
   "cell_type": "code",
   "execution_count": 23,
   "id": "116f3798-46f5-44b2-9b53-fd35a29394b9",
   "metadata": {},
   "outputs": [
    {
     "name": "stdout",
     "output_type": "stream",
     "text": [
      "<map object at 0x1075cb490>\n"
     ]
    }
   ],
   "source": [
    "print(c)"
   ]
  },
  {
   "cell_type": "code",
   "execution_count": 24,
   "id": "4f373e53-ef69-4e8f-8471-63467f176660",
   "metadata": {},
   "outputs": [
    {
     "name": "stdout",
     "output_type": "stream",
     "text": [
      "10\n",
      "20\n",
      "30\n",
      "40\n",
      "50\n"
     ]
    }
   ],
   "source": [
    "for y in c:\n",
    "    print(y)"
   ]
  },
  {
   "cell_type": "code",
   "execution_count": 25,
   "id": "53e42f92-275e-4212-bcb8-13de4ff01603",
   "metadata": {},
   "outputs": [
    {
     "name": "stdout",
     "output_type": "stream",
     "text": [
      "range(0, 10)\n"
     ]
    }
   ],
   "source": [
    "ra = range(10)\n",
    "print(ra)"
   ]
  },
  {
   "cell_type": "code",
   "execution_count": 26,
   "id": "e077063c-92aa-495c-a264-c81470d45967",
   "metadata": {},
   "outputs": [
    {
     "name": "stdout",
     "output_type": "stream",
     "text": [
      "<generator object <genexpr> at 0x107731ee0>\n"
     ]
    }
   ],
   "source": [
    "rb = (x for x in ra)\n",
    "print(rb)"
   ]
  },
  {
   "cell_type": "code",
   "execution_count": null,
   "id": "fee36434-71e0-49a6-a0c0-f5ae14bfa383",
   "metadata": {},
   "outputs": [],
   "source": [
    "def f(x):\n",
    "    print(f'calculating {x}*10')\n",
    "    return x*10\n",
    "    \n",
    "a = (1, 2, 3, 4, 5)\n",
    "b = (f(x) for x in a) # отложенные вычисления\n",
    "\n",
    "for y in b:\n",
    "    print(y)"
   ]
  },
  {
   "cell_type": "code",
   "execution_count": 35,
   "id": "3ff6177b-94a1-4966-bcde-e25af4d8423a",
   "metadata": {},
   "outputs": [
    {
     "name": "stdout",
     "output_type": "stream",
     "text": [
      "0 1 2 3 4 5 6 7 8 9\n"
     ]
    }
   ],
   "source": [
    "ra = range(10)\n",
    "rb = (x for x in ra)\n",
    "print(*rb)"
   ]
  },
  {
   "cell_type": "code",
   "execution_count": 37,
   "id": "c60fb116-916c-4b1c-894a-f35c576a6c26",
   "metadata": {},
   "outputs": [
    {
     "name": "stdout",
     "output_type": "stream",
     "text": [
      "1 9 25 49 81\n"
     ]
    }
   ],
   "source": [
    "ra = range(10)\n",
    "rb = (x for x in ra)\n",
    "print(*(x * x for x in ra if x%2 == 1))"
   ]
  },
  {
   "cell_type": "code",
   "execution_count": null,
   "id": "e94c82af-7393-42d8-a035-93359df7c3f0",
   "metadata": {},
   "outputs": [],
   "source": [
    "# map и безымянные (лямбда функции)"
   ]
  },
  {
   "cell_type": "code",
   "execution_count": 45,
   "id": "1b0e0a90-e5a0-4a1e-a037-d95cb63ac98e",
   "metadata": {},
   "outputs": [
    {
     "name": "stdout",
     "output_type": "stream",
     "text": [
      "0 1 4 9 16 25 36 49 64 81\n"
     ]
    }
   ],
   "source": [
    "\n",
    "print(*map(lambda x: x * x, ra))"
   ]
  },
  {
   "cell_type": "code",
   "execution_count": 47,
   "id": "ead5d171-4c1e-497a-99e7-5fce194977d4",
   "metadata": {},
   "outputs": [],
   "source": [
    "a = (1, 2, 3, 4, 5)\n",
    "b = tuple(x * 10 for x in a)\n",
    "c = zip(a, b)"
   ]
  },
  {
   "cell_type": "raw",
   "id": "2100522b-af56-4bf3-aaed-62c5a60fb1ff",
   "metadata": {},
   "source": [
    "print(c)"
   ]
  },
  {
   "cell_type": "code",
   "execution_count": 48,
   "id": "582bf763-3cd7-4751-be1a-2a15437c2095",
   "metadata": {},
   "outputs": [
    {
     "name": "stdout",
     "output_type": "stream",
     "text": [
      "(1, 10)\n",
      "(2, 20)\n",
      "(3, 30)\n",
      "(4, 40)\n",
      "(5, 50)\n"
     ]
    }
   ],
   "source": [
    "for a in c:\n",
    "    print(a)"
   ]
  },
  {
   "cell_type": "code",
   "execution_count": 54,
   "id": "ef0e1876-469a-4bd7-a93d-5b4c2ef5c310",
   "metadata": {},
   "outputs": [
    {
     "name": "stdout",
     "output_type": "stream",
     "text": [
      "11\n",
      "22\n",
      "33\n",
      "44\n",
      "55\n"
     ]
    }
   ],
   "source": [
    "a = (1, 2, 3, 4, 5)\n",
    "b = tuple(x * 10 for x in a)\n",
    "for t in zip(a,b):\n",
    "    print(t[0] + t[1])"
   ]
  },
  {
   "cell_type": "code",
   "execution_count": 55,
   "id": "e438ca66-4454-4de4-9d1c-a34f2654e3dc",
   "metadata": {},
   "outputs": [
    {
     "name": "stdout",
     "output_type": "stream",
     "text": [
      "1 10 11\n",
      "2 20 22\n",
      "3 30 33\n",
      "4 40 44\n",
      "5 50 55\n"
     ]
    }
   ],
   "source": [
    "for c, d in zip(a, b):\n",
    "    print(c, d, c + d)"
   ]
  },
  {
   "cell_type": "code",
   "execution_count": 56,
   "id": "af3f6e45-2f8a-4141-973a-51b2d7870609",
   "metadata": {},
   "outputs": [
    {
     "data": {
      "text/plain": [
       "<enumerate at 0x1077c2e00>"
      ]
     },
     "execution_count": 56,
     "metadata": {},
     "output_type": "execute_result"
    }
   ],
   "source": [
    "# возврат нумерованного содержимого\n",
    "enumerate(\"HELLO\")"
   ]
  },
  {
   "cell_type": "code",
   "execution_count": 57,
   "id": "591726e8-2454-4947-838c-cd5a269e065b",
   "metadata": {},
   "outputs": [
    {
     "name": "stdout",
     "output_type": "stream",
     "text": [
      "0 A\n",
      "1 N\n",
      "2 A\n",
      "3 L\n",
      "4 Y\n",
      "5 T\n",
      "6 I\n",
      "7 C\n",
      "8 S\n"
     ]
    }
   ],
   "source": [
    "for i, char in enumerate(\"ANALYTICS\"):\n",
    "    print(i, char)"
   ]
  },
  {
   "cell_type": "code",
   "execution_count": 64,
   "id": "9f76b70b-12ee-4aec-a21a-9f7b2613423a",
   "metadata": {},
   "outputs": [
    {
     "name": "stdout",
     "output_type": "stream",
     "text": [
      " I KK III NNNN GGGGG\n"
     ]
    }
   ],
   "source": [
    "print(*map(lambda a: a[0]*a[1], enumerate(\"HIKING\")))"
   ]
  },
  {
   "cell_type": "code",
   "execution_count": 78,
   "id": "0a417dc3-2015-48ab-9934-265650d9b886",
   "metadata": {},
   "outputs": [],
   "source": [
    "def arith_prog(start, stop, step):\n",
    "    x = start\n",
    "    while x < stop:\n",
    "        print(f'now x = {x}')\n",
    "        yield x\n",
    "        x += step"
   ]
  },
  {
   "cell_type": "code",
   "execution_count": 79,
   "id": "39875139-7661-4508-975a-dae876a079ec",
   "metadata": {},
   "outputs": [
    {
     "name": "stdout",
     "output_type": "stream",
     "text": [
      "<generator object arith_prog at 0x107848890>\n"
     ]
    }
   ],
   "source": [
    "print(arith_prog(1,5,1))"
   ]
  },
  {
   "cell_type": "code",
   "execution_count": 80,
   "id": "9dabe0c3-a4e6-4a7b-9754-041c8cb302fe",
   "metadata": {},
   "outputs": [
    {
     "name": "stdout",
     "output_type": "stream",
     "text": [
      "now x = 1\n",
      "1\n",
      "now x = 4\n",
      "4\n",
      "now x = 7\n",
      "7\n",
      "now x = 10\n",
      "10\n",
      "now x = 13\n",
      "13\n",
      "now x = 16\n",
      "16\n",
      "now x = 19\n",
      "19\n",
      "now x = 22\n",
      "22\n",
      "now x = 25\n",
      "25\n",
      "now x = 28\n",
      "28\n"
     ]
    }
   ],
   "source": [
    "a = arith_prog(1, 30, 3)\n",
    "for x in a:\n",
    "    print(x)"
   ]
  },
  {
   "cell_type": "code",
   "execution_count": 84,
   "id": "90f5932a-1d22-496e-a07c-a11aad307732",
   "metadata": {},
   "outputs": [],
   "source": [
    "def arith_prog(start, stop, step):\n",
    "    x = start\n",
    "    while x < stop:\n",
    "        print(f'now x = {x}')\n",
    "        #yield x\n",
    "        x += step"
   ]
  },
  {
   "cell_type": "code",
   "execution_count": 85,
   "id": "9de9134f-288a-46a9-9ada-be8745d4fac9",
   "metadata": {},
   "outputs": [
    {
     "name": "stdout",
     "output_type": "stream",
     "text": [
      "now x = 1\n",
      "now x = 2\n",
      "now x = 3\n",
      "now x = 4\n",
      "now x = 5\n"
     ]
    },
    {
     "ename": "TypeError",
     "evalue": "'NoneType' object is not iterable",
     "output_type": "error",
     "traceback": [
      "\u001b[0;31m---------------------------------------------------------------------------\u001b[0m",
      "\u001b[0;31mTypeError\u001b[0m                                 Traceback (most recent call last)",
      "Cell \u001b[0;32mIn[85], line 2\u001b[0m\n\u001b[1;32m      1\u001b[0m y \u001b[38;5;241m=\u001b[39m arith_prog(\u001b[38;5;241m1\u001b[39m, \u001b[38;5;241m6\u001b[39m, \u001b[38;5;241m1\u001b[39m)\n\u001b[0;32m----> 2\u001b[0m \u001b[38;5;28;01mfor\u001b[39;00m x \u001b[38;5;129;01min\u001b[39;00m y:\n\u001b[1;32m      3\u001b[0m     \u001b[38;5;28mprint\u001b[39m(x)\n",
      "\u001b[0;31mTypeError\u001b[0m: 'NoneType' object is not iterable"
     ]
    }
   ],
   "source": [
    "y = arith_prog(1, 6, 1)\n",
    "for x in y:\n",
    "    print(x)"
   ]
  },
  {
   "cell_type": "code",
   "execution_count": null,
   "id": "8692b8ea-e9f6-4243-a768-cfd6d60180b5",
   "metadata": {},
   "outputs": [],
   "source": [
    "numpy arenge (дробные)"
   ]
  },
  {
   "cell_type": "code",
   "execution_count": 91,
   "id": "8d020a99-13bb-45cf-9b66-b9ddafb78d44",
   "metadata": {},
   "outputs": [
    {
     "name": "stdout",
     "output_type": "stream",
     "text": [
      "2.0, 3.5, "
     ]
    }
   ],
   "source": [
    "from numpy import arange\n",
    "for i in arange(2.0, 5.0, 1.5):\n",
    "    print(i, end=', ')"
   ]
  },
  {
   "cell_type": "code",
   "execution_count": 92,
   "id": "ffab3cdb-c3b8-4997-8ba4-b1e748a4e9fa",
   "metadata": {},
   "outputs": [
    {
     "name": "stdout",
     "output_type": "stream",
     "text": [
      "[2.  2.6 3.2 3.8 4.4]\n"
     ]
    }
   ],
   "source": [
    "import numpy as np\n",
    "\n",
    "print(np.linspace(2.0, 5.0, num = 5, endpoint = False))\n"
   ]
  },
  {
   "cell_type": "code",
   "execution_count": 96,
   "id": "05ac2e96-c492-4a2c-a52c-4dd5a50dc1f6",
   "metadata": {},
   "outputs": [
    {
     "name": "stdout",
     "output_type": "stream",
     "text": [
      "[2.    2.375 2.75  3.125 3.5   3.875 4.25  4.625 5.   ]\n"
     ]
    }
   ],
   "source": [
    "import numpy as np\n",
    "print(np.linspace(2.0, 5.0, num = 9, endpoint = True))"
   ]
  },
  {
   "cell_type": "code",
   "execution_count": 97,
   "id": "1e7eeeae-f421-4a3f-9c43-a4faceb995d4",
   "metadata": {},
   "outputs": [
    {
     "name": "stdout",
     "output_type": "stream",
     "text": [
      "[2.         2.33333333 2.66666667 3.         3.33333333 3.66666667\n",
      " 4.         4.33333333 4.66666667]\n"
     ]
    }
   ],
   "source": [
    "import numpy as np\n",
    "print(np.linspace(2.0, 5.0, num = 9, endpoint = False))"
   ]
  },
  {
   "cell_type": "code",
   "execution_count": 105,
   "id": "affd3c4c-549c-4988-8819-c20cfd6a7735",
   "metadata": {},
   "outputs": [
    {
     "name": "stdout",
     "output_type": "stream",
     "text": [
      "('A', 'B', 'C'),('A', 'B', 'D'),('A', 'C', 'D'),('B', 'C', 'D'),"
     ]
    }
   ],
   "source": [
    "from  itertools import *\n",
    "g = combinations('ABCD', 3)\n",
    "\n",
    "for i in g:\n",
    "    print(i, end=',')\n"
   ]
  },
  {
   "cell_type": "code",
   "execution_count": 106,
   "id": "9009dee4-b032-47fa-aaf2-26ea5c319756",
   "metadata": {},
   "outputs": [
    {
     "name": "stdout",
     "output_type": "stream",
     "text": [
      "('A', 'B', 'C', 'D')\n",
      "('A', 'B', 'D', 'C')\n",
      "('A', 'C', 'B', 'D')\n",
      "('A', 'C', 'D', 'B')\n",
      "('A', 'D', 'B', 'C')\n",
      "('A', 'D', 'C', 'B')\n",
      "('B', 'A', 'C', 'D')\n",
      "('B', 'A', 'D', 'C')\n",
      "('B', 'C', 'A', 'D')\n",
      "('B', 'C', 'D', 'A')\n",
      "('B', 'D', 'A', 'C')\n",
      "('B', 'D', 'C', 'A')\n",
      "('C', 'A', 'B', 'D')\n",
      "('C', 'A', 'D', 'B')\n",
      "('C', 'B', 'A', 'D')\n",
      "('C', 'B', 'D', 'A')\n",
      "('C', 'D', 'A', 'B')\n",
      "('C', 'D', 'B', 'A')\n",
      "('D', 'A', 'B', 'C')\n",
      "('D', 'A', 'C', 'B')\n",
      "('D', 'B', 'A', 'C')\n",
      "('D', 'B', 'C', 'A')\n",
      "('D', 'C', 'A', 'B')\n",
      "('D', 'C', 'B', 'A')\n"
     ]
    }
   ],
   "source": [
    "from  itertools import *\n",
    "g = permutations('ABCD')\n",
    "\n",
    "for i in g:\n",
    "    print(i)\n"
   ]
  },
  {
   "cell_type": "code",
   "execution_count": 107,
   "id": "7ab2c954-1596-48a9-bb52-651b962e3a25",
   "metadata": {},
   "outputs": [
    {
     "name": "stdout",
     "output_type": "stream",
     "text": [
      "A B D\n",
      "A D B\n",
      "B A D\n",
      "B D A\n",
      "D A B\n",
      "D B A\n"
     ]
    }
   ],
   "source": [
    "g = permutations('ABD')\n",
    "\n",
    "for i in g:\n",
    "    print(*i)\n"
   ]
  },
  {
   "cell_type": "code",
   "execution_count": 111,
   "id": "005a1a77-dab1-4966-a276-be202840a987",
   "metadata": {},
   "outputs": [
    {
     "name": "stdout",
     "output_type": "stream",
     "text": [
      "A english is a books.\n",
      "A italian is a books.\n",
      "A russian is a books.\n",
      "\n",
      "A fitness is a sport.\n",
      "A tennis is a sport.\n",
      "A climbing is a sport.\n",
      "\n",
      "A duck is a bird.\n",
      "A parrot is a bird.\n",
      "A flamingo is a bird.\n",
      "\n"
     ]
    }
   ],
   "source": [
    "from itertools import groupby\n",
    "\n",
    "staff = [('books', 'english'), ('books', 'italian'),('books', 'russian'),\n",
    "         ('sport', 'fitness'), ('sport', 'tennis'), ('sport', 'climbing'), \n",
    "         ('bird', 'duck'), ('bird', 'parrot'), ('bird', 'flamingo')\n",
    "        ]\n",
    "\n",
    "for key, group in groupby(staff, lambda x: x[0]):\n",
    "    for staff in group:\n",
    "        print(\"A %s is a %s.\" % (staff[1], key))\n",
    "    print()"
   ]
  },
  {
   "cell_type": "code",
   "execution_count": 113,
   "id": "6e56ff44-33b8-4df8-94a8-668ab4c0b4f9",
   "metadata": {},
   "outputs": [
    {
     "name": "stdout",
     "output_type": "stream",
     "text": [
      "32\n",
      "9\n",
      "1000\n"
     ]
    }
   ],
   "source": [
    "from itertools import starmap\n",
    "\n",
    "f = starmap(pow, [(2,5), (3,2), (10,3)])\n",
    "\n",
    "for i in starmap(pow, [(2,5), (3,2), (10,3)]):\n",
    "    print(i)"
   ]
  },
  {
   "cell_type": "code",
   "execution_count": 115,
   "id": "381c2196-1413-4d1d-afb1-fe3a6fca6a58",
   "metadata": {},
   "outputs": [
    {
     "name": "stdout",
     "output_type": "stream",
     "text": [
      " E LL LLL OOOO\n"
     ]
    }
   ],
   "source": [
    "print(*starmap(lambda i, char: i*char, enumerate(\"HELLO\")))"
   ]
  },
  {
   "cell_type": "code",
   "execution_count": 123,
   "id": "6b5bd193-dabd-4c46-88ff-0778dd3a300e",
   "metadata": {},
   "outputs": [
    {
     "name": "stdout",
     "output_type": "stream",
     "text": [
      "15\n"
     ]
    }
   ],
   "source": [
    "from functools import *\n",
    "from itertools import *\n",
    "\n",
    "a = (1,2,3,4,5)\n",
    "\n",
    "print(reduce(lambda x, y: x + y, a))"
   ]
  },
  {
   "cell_type": "code",
   "execution_count": null,
   "id": "0ff39e72-07f3-47c9-a77d-43643a7f2eae",
   "metadata": {},
   "outputs": [],
   "source": [
    "Практическая часть\n",
    "по теме Функциональное программирование на Python\n",
    "Проверьте, возможно ли изменить список в процессе итерирования."
   ]
  },
  {
   "cell_type": "code",
   "execution_count": 125,
   "id": "6184d962-0d9a-498c-a408-9597674e6529",
   "metadata": {},
   "outputs": [
    {
     "name": "stdout",
     "output_type": "stream",
     "text": [
      "2\n",
      "2\n",
      "2\n",
      "4\n",
      "6\n"
     ]
    }
   ],
   "source": [
    "num = [1,2,2,2,3,4,5,6,7]\n",
    "\n",
    "for i in num:\n",
    "    if i%2==0:\n",
    "        print(i)\n"
   ]
  },
  {
   "cell_type": "code",
   "execution_count": 127,
   "id": "6a811fcb-05fa-4601-852d-e0b1a886db17",
   "metadata": {},
   "outputs": [
    {
     "name": "stdout",
     "output_type": "stream",
     "text": [
      "[1, 2, 2, 2, 3, 4, 5, 6, 7]\n",
      "[1, 2, 2, 3, 4, 5, 6, 7]\n",
      "[1, 2, 3, 4, 5, 6, 7]\n",
      "[1, 2, 3, 5, 6, 7]\n",
      "[1, 2, 3, 5, 7]\n"
     ]
    }
   ],
   "source": [
    "num = [1,2,2,2,3,4,5,6,7]\n",
    "\n",
    "for i in num:\n",
    "    if i%2==0:\n",
    "        num.remove(i)\n",
    "    print(num)\n"
   ]
  },
  {
   "cell_type": "code",
   "execution_count": 130,
   "id": "494da4f2-097b-4889-b0c2-15abeee2ed93",
   "metadata": {},
   "outputs": [
    {
     "name": "stdout",
     "output_type": "stream",
     "text": [
      "[1, 2, 2, 2, 3, 4, 5, 6, 7]\n",
      "[1, 2, 2, 2, 3, 4, 5, 6, 7]\n",
      "[1, 2, 2, 2, 3, 4, 5, 6, 7]\n",
      "[1, 2, 2, 2, 3, 4, 5, 6, 7]\n",
      "[1, 2, 2, 2, 3, 4, 5, 6, 7]\n",
      "[1, 2, 2, 2, 3, 4, 5, 6, 7]\n",
      "[1, 2, 2, 2, 3, 4, 5, 6, 7]\n",
      "[1, 2, 2, 2, 3, 4, 5, 6, 7]\n",
      "[1, 2, 2, 2, 3, 4, 5, 6, 7]\n"
     ]
    }
   ],
   "source": [
    "num = [1,2,2,2,3,4,5,6,7]\n",
    "\n",
    "for i in num:\n",
    "    print(num)\n"
   ]
  },
  {
   "cell_type": "code",
   "execution_count": 128,
   "id": "a86f1425-d34f-4ff7-acbf-0c5fbb991f46",
   "metadata": {},
   "outputs": [
    {
     "name": "stdout",
     "output_type": "stream",
     "text": [
      "[1, 3, 5]\n"
     ]
    }
   ],
   "source": [
    "numbers = [1, 2, 3, 4, 5]\n",
    "\n",
    "for num in numbers[:]:  # Создаем копию списка\n",
    "    if num % 2 == 0:\n",
    "        numbers.remove(num)\n",
    "\n",
    "print(numbers)  "
   ]
  },
  {
   "cell_type": "code",
   "execution_count": 128,
   "id": "fd09daf2-dcc0-482e-ad66-fe388f5800e3",
   "metadata": {},
   "outputs": [
    {
     "name": "stdout",
     "output_type": "stream",
     "text": [
      "[1, 3, 5]\n"
     ]
    }
   ],
   "source": [
    "Написать функцию, принимающую 2 списка и возвращающую декартово произведение  (*iterable)\n",
    "(использовать itertools.product)"
   ]
  },
  {
   "cell_type": "code",
   "execution_count": 149,
   "id": "e8b94c39-ecb5-40b6-86a8-44fe3629ad87",
   "metadata": {},
   "outputs": [
    {
     "name": "stdout",
     "output_type": "stream",
     "text": [
      "('any', 'me', 'any', 'me')\n",
      "('cry', 'on', 'cry', 'on')\n",
      "('c', 'o')\n",
      "('c', 'n')\n",
      "('r', 'o')\n",
      "('r', 'n')\n",
      "('y', 'o')\n",
      "('y', 'n')\n",
      "[('f', 'x'), ('f', 'y'), ('g', 'x'), ('g', 'y'), ('h', 'x'), ('h', 'y')]\n",
      "('any', 'any'), ('any', '89'), ('89', 'any'), ('89', '89'), "
     ]
    }
   ],
   "source": [
    "from itertools import product\n",
    "\n",
    "staff_tuple = (['any'], ['me']) # КОРТЕЖ из списков\n",
    "for i in product(*staff_tuple, repeat=2):\n",
    "    print(i)\n",
    "\n",
    "staff_list = [['cry'], ['on']] # СПИСОК из списков. медленнее распаковывает, подходит для динамич списков, т к изменяем\n",
    "for i in product(*staff_list, repeat=2):\n",
    "    print(i)\n",
    "\n",
    "staff_list = ['cry', 'on'] # Список \n",
    "for i in product(*staff_list, repeat=1):\n",
    "    print(i)\n",
    "\n",
    "staff_list = ['fgh', 'xy']   # Список, результат в массиве!\n",
    "print(list(product(*staff_list, repeat=1)))\n",
    "\n",
    "staff2 = ('any', '89')\n",
    "for i in product(staff2, repeat=2):   # без распаковки\n",
    "    print(i, end=', ')"
   ]
  },
  {
   "cell_type": "code",
   "execution_count": 156,
   "id": "d855f7b5-0a36-45b9-a1f6-c019f0658f47",
   "metadata": {},
   "outputs": [
    {
     "name": "stdout",
     "output_type": "stream",
     "text": [
      "[('k', 'g', 'i'), ('k', 'g', 'o'), ('k', 'h', 'i'), ('k', 'h', 'o'), ('l', 'g', 'i'), ('l', 'g', 'o'), ('l', 'h', 'i'), ('l', 'h', 'o')]\n"
     ]
    }
   ],
   "source": [
    "#Написать функцию, принимающую 2 списка и возвращающую декартово произведение (использовать itertools.product)\n",
    "from itertools import product\n",
    "\n",
    "lst = [['kl', 'gh'], ['io']]\n",
    "def foo(l1, l2):\n",
    "    return list(product(*l1, *l2, repeat=1))  # распаковала посимвольно (*)\n",
    "\n",
    "l1 = ['kl', 'gh']\n",
    "l2 = ['io']\n",
    "\n",
    "res = foo(l1, l2)\n",
    "    \n",
    "print(res)"
   ]
  },
  {
   "cell_type": "code",
   "execution_count": null,
   "id": "17e50c5f-7471-498c-924e-ea71f00762f1",
   "metadata": {},
   "outputs": [],
   "source": [
    "Написать функцию, принимающую строку s и число n и возвращающую всевозможные перестановки из n символов в s строке в лексикографическом(!) порядке \n",
    "(использовать itertools.permutations)\n",
    "\n",
    "\n"
   ]
  },
  {
   "cell_type": "code",
   "execution_count": null,
   "id": "381e9060-77a8-41cf-a027-8725fdf6cd29",
   "metadata": {},
   "outputs": [],
   "source": [
    "Параллельное программирование на Python\n"
   ]
  },
  {
   "cell_type": "code",
   "execution_count": null,
   "id": "6801eda5-f0ba-4810-9105-861b879a7518",
   "metadata": {},
   "outputs": [],
   "source": [
    "Реализуется чередованием\n",
    "\n",
    "actor -  \n",
    "микроконтроллер \n",
    "планировщик задач - просыпается и присваивает процессу а выполнение\n",
    "затем происходит прерывание (по таймеру) планировщик засыпает и активируется процесс в\n",
    "далее снова просыпается планировщик (по таймеру (задержка в милисек)) и выполняется вычисление а и тд\n",
    "\n",
    "планировщик также забирает на себя долю времени (переключение контекста).\n",
    "преимущество лишь в том, что параллельно идут процессы.\n",
    "\n",
    "итог - параллельное выполнение задач с примитивным планировщиком, когда есть минимум акторов, не дает преимуществ во времени.\n",
    "\n",
    "однако, например, в той же гпу (видео карта) вычислит возможности процессора позволяют делать быстрые расчеты и параллельность\n",
    "\n",
    "    \n",
    "\n"
   ]
  },
  {
   "cell_type": "code",
   "execution_count": null,
   "id": "df94bf01-e028-4045-a168-5fec1ca8d1dc",
   "metadata": {},
   "outputs": [],
   "source": [
    "Алгоритм планировщика - Round Robin - вразающаяся карусель, когда процессы запущенные идут по кругу\n",
    "\n",
    "нажал символ - \n",
    "процесс из спящих переходит в карусель ожидающих выполнения процессов\n",
    "    \n",
    "мы используем время вынужденного простоя первого процесса для выполнения другого процесса.\n",
    "    это выглядит, как параллельность, но на самом деле это выполнение по очереди.\n",
    "\n",
    "если 2 ядра цпу, то может вычислять параллельно.\n"
   ]
  },
  {
   "cell_type": "code",
   "execution_count": 124,
   "id": "67e296dc-1084-4ee4-97ff-7896d68fe968",
   "metadata": {},
   "outputs": [
    {
     "ename": "SyntaxError",
     "evalue": "invalid syntax (1196577184.py, line 1)",
     "output_type": "error",
     "traceback": [
      "\u001b[0;36m  Cell \u001b[0;32mIn[124], line 1\u001b[0;36m\u001b[0m\n\u001b[0;31m    ЦЕЛЬ паралл. программирования\u001b[0m\n\u001b[0m         ^\u001b[0m\n\u001b[0;31mSyntaxError\u001b[0m\u001b[0;31m:\u001b[0m invalid syntax\n"
     ]
    }
   ],
   "source": [
    "ЦЕЛЬ паралл. программирования\n",
    "\n",
    "ввод-вывод\n",
    "взимодействия с устройствами или сетью - если их много, то при параллельности не будет зависать\n",
    "\n",
    "\n",
    "1 Интерактивность\n",
    "в процессе выполнения вычислит процесса - можно отобразить процесс\n",
    "2 Увиличить скорость вычисления - \n",
    "    ее увеличили за счет многоядерности (или кол-ва процессоров)\n",
    "    - Система с общей памятью - это значит, что в целом 2 параллельных потока выполняются независимо, но если потребуется обращаться к общ памяти системы, то происходит также процесс ожидания одного другим\n",
    "    - Много вычислит-х систем (много пк) - СУТЬ - это распределенная вычислит система:   \n",
    "                                                                                гомогенная - кластер или фабрика\n",
    "                                                                                гетерогенная - вычислительная сеть - можно предоставить свой пк для других"
   ]
  },
  {
   "cell_type": "code",
   "execution_count": null,
   "id": "bb8a478c-9d6e-4e62-bbf4-992fa6563160",
   "metadata": {},
   "outputs": [],
   "source": [
    "\n",
    "Cхемы взаимодействия процессов:\n",
    "\n",
    "    Общая память Shared memory - гейзинбаг - плавающая ошибка (race condition), ситуация при которой происходит наложение параллельных процессов и возможно не корректное выполнение команды\n",
    "ее сложно вычислить и проблема реашается использованием блокировок, в которых идет обращение к гпу, \n",
    "гпу (система) использует mutual exclusion (mutex) - взаимное исключение,\n",
    "то есть в момент, когда процесс подбирается к критическим секции, иму вешается gap, если там занято.\n",
    "это сложно. но есть +- лайт версии.\n",
    "    Очереди (queue) - независимые акторы, взаимодействие через выпуск одного актора запросов в очередь. в это время другой актор част принимает и запускает в свою очередь\n",
    "то есть может быть кластер из сотни вычислительных мощностей.\n",
    "\n",
    "\n",
    "ОПАСНОСТИ\n",
    "    сложность\n",
    "    стоимость\n",
    "    ошибки и их отладка\n",
    "\n",
    "\n",
    "при работе с очередями нет конкретных блокировок, то есть, в случае возникновения процессов - они выстраиваются в очередь\n"
   ]
  },
  {
   "cell_type": "code",
   "execution_count": null,
   "id": "77653e5a-c20b-4e20-8280-3435fc5fd4a2",
   "metadata": {},
   "outputs": [],
   "source": [
    "Изоляция\n",
    "\n"
   ]
  },
  {
   "cell_type": "code",
   "execution_count": 145,
   "id": "87b46d60-6a38-4de2-8b1a-cb18ddf8f61c",
   "metadata": {},
   "outputs": [
    {
     "name": "stdout",
     "output_type": "stream",
     "text": [
      "('a', '8', 'a', '8')\n",
      "('a', '8', 'a', '9')\n",
      "('a', '8', 'n', '8')\n",
      "('a', '8', 'n', '9')\n",
      "('a', '8', 'y', '8')\n",
      "('a', '8', 'y', '9')\n",
      "('a', '9', 'a', '8')\n",
      "('a', '9', 'a', '9')\n",
      "('a', '9', 'n', '8')\n",
      "('a', '9', 'n', '9')\n",
      "('a', '9', 'y', '8')\n",
      "('a', '9', 'y', '9')\n",
      "('n', '8', 'a', '8')\n",
      "('n', '8', 'a', '9')\n",
      "('n', '8', 'n', '8')\n",
      "('n', '8', 'n', '9')\n",
      "('n', '8', 'y', '8')\n",
      "('n', '8', 'y', '9')\n",
      "('n', '9', 'a', '8')\n",
      "('n', '9', 'a', '9')\n",
      "('n', '9', 'n', '8')\n",
      "('n', '9', 'n', '9')\n",
      "('n', '9', 'y', '8')\n",
      "('n', '9', 'y', '9')\n",
      "('y', '8', 'a', '8')\n",
      "('y', '8', 'a', '9')\n",
      "('y', '8', 'n', '8')\n",
      "('y', '8', 'n', '9')\n",
      "('y', '8', 'y', '8')\n",
      "('y', '8', 'y', '9')\n",
      "('y', '9', 'a', '8')\n",
      "('y', '9', 'a', '9')\n",
      "('y', '9', 'n', '8')\n",
      "('y', '9', 'n', '9')\n",
      "('y', '9', 'y', '8')\n",
      "('y', '9', 'y', '9')\n",
      "[('any', 'me')]\n"
     ]
    }
   ],
   "source": [
    "from itertools import product\n",
    "\n",
    "staff_list = [['cry'], ['on']] # Список из списков\n",
    "for i in product(*staff, repeat=2):\n",
    "    print(i)\n",
    "\n",
    "staff_list = [['a', 'b'], ['x', 'y']]   # Список из списков\n",
    "print(list(product(*staff_tuple, repeat=1)))"
   ]
  },
  {
   "cell_type": "code",
   "execution_count": null,
   "id": "1ec30765-5bad-4f1b-81b2-a14dd169ebbf",
   "metadata": {},
   "outputs": [],
   "source": [
    "Лекция 4\n",
    "скорость вычисления на Python"
   ]
  },
  {
   "cell_type": "code",
   "execution_count": 180,
   "id": "c613cf6c-bc15-45eb-9f9a-7f6a2bc5838b",
   "metadata": {},
   "outputs": [
    {
     "name": "stdout",
     "output_type": "stream",
     "text": [
      "Duration:  8.056988008320332e-06\n",
      "1 1 1 2 3\n"
     ]
    }
   ],
   "source": [
    "import time\n",
    "\n",
    "final_fibonacci_num = 4\n",
    "\n",
    "def fib(n: int) -> int:\n",
    "    return fib(n-1) + fib(n-2) if n > 2 else 1\n",
    "\n",
    "def main():\n",
    "    tasks = list(range(0, final_fibonacci_num + 1))\n",
    "    start_time = time.perf_counter()\n",
    "    answers = []\n",
    "    for number in tasks:\n",
    "        answers.append(fib(number))\n",
    "\n",
    "    finish_time = time.perf_counter()\n",
    "    print('Duration: ', finish_time - start_time)\n",
    "        \n",
    "    print(*answers)\n",
    "    \n",
    "if __name__ == '__main__':\n",
    "    main()"
   ]
  },
  {
   "cell_type": "code",
   "execution_count": 190,
   "id": "f6d8be85-c3e2-4ec3-8b14-25e007ccddcc",
   "metadata": {},
   "outputs": [
    {
     "name": "stdout",
     "output_type": "stream",
     "text": [
      "49\n",
      "289\n"
     ]
    }
   ],
   "source": [
    "x = '7';\n",
    "def square(x:str) -> int:\n",
    "    return int(x)**2\n",
    "\n",
    "print(square(x))\n",
    "\n",
    "x = '17';\n",
    "def square(x):\n",
    "    return int(x)**2\n",
    "\n",
    "print(square(x))"
   ]
  },
  {
   "cell_type": "code",
   "execution_count": 163,
   "id": "59ee5e74-9020-463b-aa52-047fede735dc",
   "metadata": {},
   "outputs": [
    {
     "name": "stdout",
     "output_type": "stream",
     "text": [
      "Duration: 73.57454368495382\n",
      "1 1 1 2 3 5 8 13 21 34 55 89 144 233 377 610 987 1597 2584 4181 6765 10946 17711 28657 46368 75025 121393 196418 317811 514229 832040 1346269 2178309 3524578 5702887 9227465 14930352 24157817 39088169 63245986 102334155\n"
     ]
    }
   ],
   "source": [
    "import time\n",
    "\n",
    "final_fibonacci_number = 40\n",
    "\n",
    "\n",
    "def fib(n: int) -> int:\n",
    "    return fib(n-1) + fib(n-2) if n > 2 else 1\n",
    "    \n",
    "\n",
    "def main():\n",
    "    tasks = list(range(0, final_fibonacci_number + 1))\n",
    "    start_time = time.perf_counter()\n",
    "    # Никаких параллельных вычислений! Работаем сами:\n",
    "    answers = []\n",
    "    for number in tasks:\n",
    "        answers.append(fib(number))\n",
    "    # Работает один родительский процесс по-прежнему.\n",
    "    finish_time = time.perf_counter()\n",
    "    print(\"Duration:\", finish_time - start_time)\n",
    "    \n",
    "    print(*answers)\n",
    "    \n",
    "if __name__ == '__main__':\n",
    "    main()"
   ]
  },
  {
   "cell_type": "code",
   "execution_count": null,
   "id": "1098185e-6b5e-40b2-bb39-60a97a829ef6",
   "metadata": {},
   "outputs": [],
   "source": [
    "# оптимизируем 2_processes.py\n",
    "\n",
    "\n"
   ]
  }
 ],
 "metadata": {
  "kernelspec": {
   "display_name": "Python 3 (ipykernel)",
   "language": "python",
   "name": "python3"
  },
  "language_info": {
   "codemirror_mode": {
    "name": "ipython",
    "version": 3
   },
   "file_extension": ".py",
   "mimetype": "text/x-python",
   "name": "python",
   "nbconvert_exporter": "python",
   "pygments_lexer": "ipython3",
   "version": "3.10.13"
  }
 },
 "nbformat": 4,
 "nbformat_minor": 5
}
