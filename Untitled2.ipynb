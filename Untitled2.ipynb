{
 "cells": [
  {
   "cell_type": "code",
   "execution_count": 2,
   "id": "c0518bff-d938-4e44-a5b5-92a49b4fe32b",
   "metadata": {},
   "outputs": [
    {
     "name": "stdout",
     "output_type": "stream",
     "text": [
      "📌 Маленькая выборка (n=10)\n",
      "t-тест:  T-статистика = 2.2342, P-value = 0.0384\n",
      "Z-тест:  Z-статистика = 2.3360, P-value = 0.0195\n"
     ]
    }
   ],
   "source": [
    "import numpy as np\n",
    "import scipy.stats as stats\n",
    "\n",
    "# Фиксируем случайность\n",
    "np.random.seed(42)\n",
    "\n",
    "# Генерируем маленькие выборки (n=10)\n",
    "n = 10\n",
    "sample1 = np.random.normal(loc=50, scale=10, size=n)\n",
    "sample2 = np.random.normal(loc=55, scale=10, size=n)\n",
    "\n",
    "# --- t-тест ---\n",
    "t_stat, p_ttest = stats.ttest_ind(sample1, sample2)\n",
    "\n",
    "# --- Z-тест ---\n",
    "# Оценка стандартного отклонения (по всей популяции - обычно неизвестна!)\n",
    "pop_std = 10  # Пусть мы знаем стандартное отклонение в популяции\n",
    "se = pop_std / np.sqrt(n)  # Ошибка среднего\n",
    "z_stat = (np.mean(sample1) - np.mean(sample2)) / se\n",
    "p_ztest = 2 * (1 - stats.norm.cdf(abs(z_stat)))  # Двусторонний тест\n",
    "\n",
    "print(f\"📌 Маленькая выборка (n={n})\")\n",
    "print(f\"t-тест:  T-статистика = {t_stat:.4f}, P-value = {p_ttest:.4f}\")\n",
    "print(f\"Z-тест:  Z-статистика = {z_stat:.4f}, P-value = {p_ztest:.4f}\")\n"
   ]
  },
  {
   "cell_type": "code",
   "execution_count": 1,
   "id": "1dacedf8-4e3c-481e-88d4-bf5d476696dd",
   "metadata": {},
   "outputs": [
    {
     "name": "stdout",
     "output_type": "stream",
     "text": [
      "/Users/margaritaborodina/.pyenv/versions/3.10.13/bin/python3.10\n"
     ]
    }
   ],
   "source": [
    "import sys\n",
    "print(sys.executable)"
   ]
  },
  {
   "cell_type": "code",
   "execution_count": null,
   "id": "122355c1-aac9-4d6f-9496-aba860e195ba",
   "metadata": {},
   "outputs": [],
   "source": []
  }
 ],
 "metadata": {
  "kernelspec": {
   "display_name": "Python 3 (ipykernel)",
   "language": "python",
   "name": "python3"
  },
  "language_info": {
   "codemirror_mode": {
    "name": "ipython",
    "version": 3
   },
   "file_extension": ".py",
   "mimetype": "text/x-python",
   "name": "python",
   "nbconvert_exporter": "python",
   "pygments_lexer": "ipython3",
   "version": "3.10.13"
  }
 },
 "nbformat": 4,
 "nbformat_minor": 5
}
