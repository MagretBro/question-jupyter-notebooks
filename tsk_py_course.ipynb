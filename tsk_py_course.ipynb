{
 "cells": [
  {
   "cell_type": "code",
   "execution_count": 7,
   "id": "2b59d984-135b-4289-9b86-c37cf7c914cb",
   "metadata": {},
   "outputs": [
    {
     "name": "stdout",
     "output_type": "stream",
     "text": [
      "5.830951894845301\n"
     ]
    }
   ],
   "source": [
    "Допишите текст программы для вычисления евклидового расстояния (гипотенузы) \n",
    "по перемещениям a и b. Округлите результат с точностью до сотых. Полученное значение выведите на экран."
   ]
  },
  {
   "cell_type": "code",
   "execution_count": null,
   "id": "a67f73c8-d3ed-492b-ad11-f60b2f97d5cc",
   "metadata": {},
   "outputs": [],
   "source": [
    "import math\n",
    "a, b = map(int, input().split())\n",
    "d = math.sqrt(a**2 + b**2)\n",
    "print(round(d,2))\n"
   ]
  },
  {
   "cell_type": "code",
   "execution_count": 11,
   "id": "0f0b6dc6-8f5c-4670-9cbf-a41882a1629b",
   "metadata": {},
   "outputs": [],
   "source": [
    "#Допишите программу для нахождения числа сочетаний из n по k (значения вводятся в программе), используя формулу\n",
    "# ыведите результат в консоль в виде целого числа с помощью функции print.\n",
    "n = 2\n",
    "k = 1\n",
    "\n",
    "d = (math.factorial(n)) // (math.factorial(k) * math.factorial(n-k))\n"
   ]
  },
  {
   "cell_type": "code",
   "execution_count": null,
   "id": "4e630ebf-e59b-45b2-87d9-872cbf9b020e",
   "metadata": {},
   "outputs": [],
   "source": [
    "В летний лагерь нужно отвезти n детей и m вожатых \n",
    "с помощью автобусов (значения считываются из входного потока в программе ниже).\n",
    "Максимальная вместимость каждого автобуса 20 человек.\n",
    "Допишите программу для вычисления минимального числа автобусов, \n",
    "необходимых для перевозки детей вместе с вожатыми. \n",
    "Результат выведите в консоль в виде целого числа.\n",
    "ceil- до большего\n",
    "floor - до меньшего\n"
   ]
  },
  {
   "cell_type": "code",
   "execution_count": 14,
   "id": "c04e3eeb-b445-4da3-b088-fba892391038",
   "metadata": {},
   "outputs": [
    {
     "name": "stdout",
     "output_type": "stream",
     "text": [
      "3\n"
     ]
    }
   ],
   "source": [
    "import math\n",
    "n, m = 40, 5\n",
    "\n",
    "d = math.ceil((n + m) / 20)\n"
   ]
  },
  {
   "cell_type": "code",
   "execution_count": 18,
   "id": "edd8655b-364e-4104-ba2d-1423d8c0c61b",
   "metadata": {},
   "outputs": [],
   "source": [
    "#Гелевая ручка стоит x рублей (значение вводится из входного потока в программе ниже). Сегодня магазин предоставляет скидку в 10% на каждую купленную ручку. Какое наибольшее количество таких ручек можно будет купить на 500 рублей? Результат выведите в консоль в виде целого числа.\n",
    "\n",
    "\n",
    "x = 20\n",
    "\n",
    "d = math.floor(500 /(x - x*0.1))\n",
    "c = math.floor(500 /(x*0.9))\n",
    "\n"
   ]
  },
  {
   "cell_type": "code",
   "execution_count": 19,
   "id": "3b5b92fc-cf82-4d89-bea9-2aeab5f775af",
   "metadata": {},
   "outputs": [
    {
     "data": {
      "text/plain": [
       "'My name is Magret'"
      ]
     },
     "execution_count": 19,
     "metadata": {},
     "output_type": "execute_result"
    }
   ],
   "source": [
    "name = 'Magret'\n",
    "f'My name is {name}'"
   ]
  },
  {
   "cell_type": "code",
   "execution_count": 21,
   "id": "a5902a09-4c6e-44f7-be6f-8e352b13a40a",
   "metadata": {},
   "outputs": [],
   "source": [
    "import math\n",
    "x = 20\n",
    "\n",
    "#d = math.floor(500 /(x - x*0.1))\n",
    "c = math.floor(500 /(x*0.9))\n"
   ]
  },
  {
   "cell_type": "code",
   "execution_count": null,
   "id": "d6df2bc7-8974-4501-aba1-d32b44292a1c",
   "metadata": {},
   "outputs": [],
   "source": []
  }
 ],
 "metadata": {
  "kernelspec": {
   "display_name": "Python 3 (ipykernel)",
   "language": "python",
   "name": "python3"
  },
  "language_info": {
   "codemirror_mode": {
    "name": "ipython",
    "version": 3
   },
   "file_extension": ".py",
   "mimetype": "text/x-python",
   "name": "python",
   "nbconvert_exporter": "python",
   "pygments_lexer": "ipython3",
   "version": "3.10.13"
  }
 },
 "nbformat": 4,
 "nbformat_minor": 5
}
