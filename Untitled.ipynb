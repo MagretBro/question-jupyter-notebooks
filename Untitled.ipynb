{
 "cells": [
  {
   "cell_type": "code",
   "execution_count": null,
   "id": "82313524-3556-4b6b-b01c-48ce4b49e13b",
   "metadata": {},
   "outputs": [],
   "source": [
    "БАЗА:\n",
    "Чтение строки и слов:\n",
    "s = input() # чтение одной строки целиком\n",
    "words = input().split() # чтение строки со словами, записанными через пробел, с преобразованием в список слов\n",
    "Чтение одного целого или вещественного числа:\n",
    "a = int(input())  # чтение целого числа\n",
    "b = float(input())  # чтение вещественного числа\n",
    " Чтение двух целых или вещественных чисел, записанных через пробел:\n",
    "a, b = map(int, input().split()) # чтение двух целых чисел\n",
    "x, y = map(float, input().split()) # чтение двух вещественных чисел\n",
    "Чтение трех целых или вещественных чисел, записанных через пробел:\n",
    "a, b, c = map(int, input().split()) # чтение трех целых чисел\n",
    "x, y, z = map(float, input().split()) # чтение трех вещественных чисел\n",
    "Чтение произвольного количества целых или вещественных чисел, записанных через пробел:\n",
    "lst_int = list(map(int, input().split())) # чтение целых чисел\n",
    "lst_float = list(map(float, input().split())) # чтение вещественных чисел\n",
    "Вывод коллекции (доступной через переменную lst) на экран (списка, кортежа, словаря, множества):\n",
    "print(lst) # вывод в строку в формате коллекции, например, для списка: [1, 2, 3]\n",
    "print(*lst) # поэлементный вывод в строчку через пробел, например: 1 2 3"
   ]
  },
  {
   "cell_type": "code",
   "execution_count": 1,
   "id": "bdf808d7-b601-4821-babe-98123e9cf0b4",
   "metadata": {},
   "outputs": [
    {
     "data": {
      "text/plain": [
       "1.5"
      ]
     },
     "execution_count": 1,
     "metadata": {},
     "output_type": "execute_result"
    }
   ],
   "source": [
    "3/2"
   ]
  },
  {
   "cell_type": "code",
   "execution_count": 2,
   "id": "0ffd1e96-8bcf-4584-b2c5-ef8b7333e541",
   "metadata": {},
   "outputs": [
    {
     "data": {
      "text/plain": [
       "89"
      ]
     },
     "execution_count": 2,
     "metadata": {},
     "output_type": "execute_result"
    }
   ],
   "source": [
    "80+9"
   ]
  },
  {
   "cell_type": "code",
   "execution_count": 3,
   "id": "34711598-7992-4522-b015-09ace005ab2c",
   "metadata": {},
   "outputs": [
    {
     "ename": "ZeroDivisionError",
     "evalue": "division by zero",
     "output_type": "error",
     "traceback": [
      "\u001b[0;31m---------------------------------------------------------------------------\u001b[0m",
      "\u001b[0;31mZeroDivisionError\u001b[0m                         Traceback (most recent call last)",
      "Cell \u001b[0;32mIn[3], line 1\u001b[0m\n\u001b[0;32m----> 1\u001b[0m \u001b[38;5;241;43m80\u001b[39;49m\u001b[38;5;241;43m/\u001b[39;49m\u001b[38;5;241;43m0\u001b[39;49m\n",
      "\u001b[0;31mZeroDivisionError\u001b[0m: division by zero"
     ]
    }
   ],
   "source": [
    "80/0"
   ]
  },
  {
   "cell_type": "markdown",
   "id": "0e858631-a41f-46a5-b7e1-154fba0e80d4",
   "metadata": {},
   "source": [
    "1="
   ]
  }
 ],
 "metadata": {
  "kernelspec": {
   "display_name": "Python 3 (ipykernel)",
   "language": "python",
   "name": "python3"
  },
  "language_info": {
   "codemirror_mode": {
    "name": "ipython",
    "version": 3
   },
   "file_extension": ".py",
   "mimetype": "text/x-python",
   "name": "python",
   "nbconvert_exporter": "python",
   "pygments_lexer": "ipython3",
   "version": "3.10.13"
  }
 },
 "nbformat": 4,
 "nbformat_minor": 5
}
