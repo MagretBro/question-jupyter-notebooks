{
 "cells": [
  {
   "cell_type": "code",
   "execution_count": 9,
   "id": "422e470e-9636-45ed-bd38-86b2f318deb8",
   "metadata": {},
   "outputs": [
    {
     "name": "stdout",
     "output_type": "stream",
     "text": [
      "-1\n",
      "-2\n",
      "-3\n",
      "-4\n",
      "-5\n",
      "-6\n",
      "-7\n",
      "-8\n",
      "-9\n",
      "-10\n"
     ]
    }
   ],
   "source": [
    "i = -1\n",
    "n = -10\n",
    "count = 0\n",
    "\n",
    "while i >= n:\n",
    "    print(i)\n",
    "    i -=1\n",
    "    count += 1\n",
    "    if count > 90:\n",
    "        break\n"
   ]
  },
  {
   "cell_type": "code",
   "execution_count": 16,
   "id": "2a3144f5-5127-4620-9323-3fe13d432c18",
   "metadata": {},
   "outputs": [
    {
     "name": "stdout",
     "output_type": "stream",
     "text": [
      "9 16 25 "
     ]
    }
   ],
   "source": [
    "n = 3\n",
    "m = 5\n",
    "#n, m = map(int, input().split())\n",
    "count = 0\n",
    "while n <= m:\n",
    "    print(n**2, end=' ')\n",
    "    n+=1\n",
    "    count +=1\n",
    "    if count > 9:\n",
    "        break"
   ]
  },
  {
   "cell_type": "code",
   "execution_count": 23,
   "id": "2393abef-fd6b-46d0-896b-2d15bf7dd274",
   "metadata": {},
   "outputs": [
    {
     "name": "stdout",
     "output_type": "stream",
     "text": [
      "69.2\n",
      "103.8\n",
      "138.4\n",
      "173.0\n",
      "207.6\n",
      "242.2\n",
      "276.8\n",
      "311.4\n",
      "346.0\n"
     ]
    }
   ],
   "source": [
    "x = 34.6\n",
    "i = 2\n",
    "count = 0\n",
    "while i <= 10:\n",
    "    print(round(x*i, 1))\n",
    "    i+=1\n",
    "    count +=1\n",
    "    if count > 20:\n",
    "        break\n",
    "\n",
    "    "
   ]
  },
  {
   "cell_type": "code",
   "execution_count": 28,
   "id": "064e34ef-b312-4446-93f4-0391ca315832",
   "metadata": {},
   "outputs": [
    {
     "name": "stdout",
     "output_type": "stream",
     "text": [
      "[69.2, 103.8, 138.4, 173.0, 207.6, 242.2, 276.8, 311.4, 346.0]\n"
     ]
    }
   ],
   "source": [
    "# while, append, break\n",
    "#x = float(input())\n",
    "x = float(34.6)\n",
    "i = 2\n",
    "lst = []\n",
    "count = 0\n",
    "while i <= 10:\n",
    "    v = round(x*i, 1)\n",
    "    lst.append(v)\n",
    "    i+=1\n",
    "    count +=1\n",
    "    if count > 20:\n",
    "        break\n",
    "print(lst)\n"
   ]
  },
  {
   "cell_type": "code",
   "execution_count": 26,
   "id": "80c1e56a-e1c9-4592-b0fd-ea37ff79a6bf",
   "metadata": {},
   "outputs": [
    {
     "name": "stdout",
     "output_type": "stream",
     "text": [
      "69.2 103.8 138.4 173.0 207.6 242.2 276.8 311.4 346.0 "
     ]
    }
   ],
   "source": [
    "#  На вход программы подается вещественное число: стоимость одной книги x рублей. Необходимо прочитать это число и вывести на экран в одну строчку через пробел стоимости 2, 3, ... 10-ти таких книг с точностью до десятых. Программу реализовать при помощи цикла while.\n",
    "#x = float(input())\n",
    "x = float(34.6)\n",
    "i = 2\n",
    "count = 0\n",
    "while i <= 10:\n",
    "    print(round(x*i, 1), end=' ')\n",
    "    i+=1\n",
    "    count +=1\n",
    "    if count > 20:\n",
    "        break"
   ]
  },
  {
   "cell_type": "code",
   "execution_count": 36,
   "id": "ca068142-e752-4cfd-b7a3-c2f0e0fbb1cd",
   "metadata": {},
   "outputs": [
    {
     "name": "stdin",
     "output_type": "stream",
     "text": [
      " 234\n"
     ]
    },
    {
     "name": "stdout",
     "output_type": "stream",
     "text": [
      "9\n"
     ]
    }
   ],
   "source": [
    "#На вход программе подается натуральное число (то есть, целое положительное) от трехзначного и более. Необходимо прочитать это число и найти произведение всех его цифр. Результат (произведение) вывести на экран. Программу реализовать при помощи цикла while.\n",
    "# тут решение суммы чисел\n",
    "print(sum(map(int, str(input()))))\n",
    "    "
   ]
  },
  {
   "cell_type": "code",
   "execution_count": 34,
   "id": "a5875a4f-c597-4244-a947-96ef6eac7055",
   "metadata": {},
   "outputs": [
    {
     "name": "stdout",
     "output_type": "stream",
     "text": [
      "16\n"
     ]
    }
   ],
   "source": [
    "from functools import reduce\n",
    "\n",
    "n = int(821)  \n",
    "m = reduce(lambda x, y: x * y, map(int, str(n)))\n",
    "print(m)\n",
    "#multiply_digits = lambda n: reduce(lambda x, y: x * y, map(int, str(n)))  \n",
    "\n",
    "#print(multiply_digits(a))"
   ]
  },
  {
   "cell_type": "code",
   "execution_count": 44,
   "id": "1acb95a0-4051-459c-b6c4-2729528e8bdc",
   "metadata": {},
   "outputs": [
    {
     "name": "stdout",
     "output_type": "stream",
     "text": [
      "30\n"
     ]
    }
   ],
   "source": [
    "#Перемножение всех цифр числа\n",
    "\n",
    "#Дано целое число n. Разбейте его на отдельные цифры и найдите их произведение.\n",
    "from functools import reduce\n",
    "\n",
    "a = int(523)\n",
    "digit_multiple = reduce(lambda x,y: x*y,(map(int, str(a))))\n",
    "print(digit_multiple)"
   ]
  },
  {
   "cell_type": "code",
   "execution_count": null,
   "id": "73aef958-6045-4da2-9e18-112ce20f470c",
   "metadata": {},
   "outputs": [],
   "source": []
  }
 ],
 "metadata": {
  "kernelspec": {
   "display_name": "Python 3 (ipykernel)",
   "language": "python",
   "name": "python3"
  },
  "language_info": {
   "codemirror_mode": {
    "name": "ipython",
    "version": 3
   },
   "file_extension": ".py",
   "mimetype": "text/x-python",
   "name": "python",
   "nbconvert_exporter": "python",
   "pygments_lexer": "ipython3",
   "version": "3.10.13"
  }
 },
 "nbformat": 4,
 "nbformat_minor": 5
}
