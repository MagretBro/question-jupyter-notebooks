{
 "cells": [
  {
   "cell_type": "code",
   "execution_count": null,
   "id": "66015be4-8e9b-4d75-a59d-a0a4f132a68b",
   "metadata": {},
   "outputs": [],
   "source": [
    "import pandas as pd\n",
    "import numpy as np\n",
    "import matplotlib.pyplot as plt\n",
    "import seaborn as sns\n",
    "\n",
    "# data generate\n",
    "np.random.seed(42)\n",
    "data = {\n",
    "    \"date\": pd.date_range(start=\"2023-01-01\", periods=100, freq=\"D\"),\n",
    "    \"product\":np.random.choice([\"Laptop\", \"Smartphone\", \"Tablet\", \"Headphones\"],, 100),\n",
    "    \"category\":np.random.choice([\"Electronics\", \"Accessories\"], 100),\n",
    "    \"price\":np.random.randit(500, 3999, 100),\n",
    "    \"quantity\":np.random.randit(1, 6, 100)\n",
    "}\n",
    "df = pd.DataFrame(data)\n",
    "\n",
    "# add column \"total sales\"\n",
    "df[\"total_sales\"] = df[\"price\"] * df[\"quantity\"]\n",
    "\n",
    "# avg_check\n",
    "avg_check = df[\"total_sales\"].mean()\n",
    "print(f\"AVG check is: {avg_check:.2f}\")\n",
    "\n",
    "# top5\n",
    "top_products = df.groupby(\"product\")[\"total_sales\"].sum().sort_values(ascending=False)\n",
    "print(\"Top-5 products by profit:\\n\", top_products.head(5))\n",
    "\n",
    "# sales per month\n",
    "df[\"month\"] = df[\"date\"].dt.month\n",
    "monthly_sales = df.groupby(\"month\")[\"total_sales\"].sum()\n",
    "\n",
    "#visual\n",
    "plt.figure(figsize=(8, 4))\n",
    "sns.barplot(x=monthly_sales.index, y=monthly_sales.values, palette=\"viridis\")\n",
    "plt.title(\"sales per month\")\n",
    "plt.xlabel(\"Month\")\n",
    "plt.ylabel(\"Profit\")\n",
    "plt.show()\n",
    "\n",
    "\n"
   ]
  }
 ],
 "metadata": {
  "kernelspec": {
   "display_name": "Python 3 (ipykernel)",
   "language": "python",
   "name": "python3"
  },
  "language_info": {
   "codemirror_mode": {
    "name": "ipython",
    "version": 3
   },
   "file_extension": ".py",
   "mimetype": "text/x-python",
   "name": "python",
   "nbconvert_exporter": "python",
   "pygments_lexer": "ipython3",
   "version": "3.10.13"
  }
 },
 "nbformat": 4,
 "nbformat_minor": 5
}
