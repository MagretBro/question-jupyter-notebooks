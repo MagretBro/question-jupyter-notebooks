{
 "cells": [
  {
   "cell_type": "code",
   "execution_count": null,
   "id": "aa5632a6-464e-443a-bfdc-0938374b3e2b",
   "metadata": {},
   "outputs": [],
   "source": [
    "БАЗА:\n",
    "Чтение строки и слов:\n",
    "s = input() # чтение одной строки целиком\n",
    "words = input().split() # чтение строки со словами, записанными через пробел, с преобразованием в список слов\n",
    "Чтение одного целого или вещественного числа:\n",
    "a = int(input())  # чтение целого числа\n",
    "b = float(input())  # чтение вещественного числа\n",
    " Чтение двух целых или вещественных чисел, записанных через пробел:\n",
    "a, b = map(int, input().split()) # чтение двух целых чисел\n",
    "x, y = map(float, input().split()) # чтение двух вещественных чисел\n",
    "Чтение трех целых или вещественных чисел, записанных через пробел:\n",
    "a, b, c = map(int, input().split()) # чтение трех целых чисел\n",
    "x, y, z = map(float, input().split()) # чтение трех вещественных чисел\n",
    "Чтение произвольного количества целых или вещественных чисел, записанных через пробел:\n",
    "lst_int = list(map(int, input().split())) # чтение целых чисел\n",
    "lst_float = list(map(float, input().split())) # чтение вещественных чисел\n",
    "Вывод коллекции (доступной через переменную lst) на экран (списка, кортежа, словаря, множества):\n",
    "print(lst) # вывод в строку в формате коллекции, например, для списка: [1, 2, 3]\n",
    "print(*lst) # поэлементный вывод в строчку через пробел, например: 1 2 3"
   ]
  },
  {
   "cell_type": "code",
   "execution_count": 1,
   "id": "8fdb9aa8-917b-49c5-828a-6dee07a6e524",
   "metadata": {},
   "outputs": [
    {
     "data": {
      "text/plain": [
       "2"
      ]
     },
     "execution_count": 1,
     "metadata": {},
     "output_type": "execute_result"
    }
   ],
   "source": [
    "1+1"
   ]
  },
  {
   "cell_type": "code",
   "execution_count": 2,
   "id": "b4cde7d6-39ef-4084-8132-199739a1fd7e",
   "metadata": {},
   "outputs": [
    {
     "data": {
      "text/plain": [
       "81"
      ]
     },
     "execution_count": 2,
     "metadata": {},
     "output_type": "execute_result"
    }
   ],
   "source": [
    "3**4"
   ]
  },
  {
   "cell_type": "code",
   "execution_count": 5,
   "id": "4ba238dc-43c5-488e-8d07-445ef262c14b",
   "metadata": {},
   "outputs": [
    {
     "name": "stdout",
     "output_type": "stream",
     "text": [
      "4\n"
     ]
    }
   ],
   "source": [
    "Динамическая типизация"
   ]
  },
  {
   "cell_type": "code",
   "execution_count": 6,
   "id": "ba19da93-dc85-43bc-b5c6-599b68b66240",
   "metadata": {},
   "outputs": [
    {
     "name": "stdout",
     "output_type": "stream",
     "text": [
      "f\n"
     ]
    }
   ],
   "source": [
    "s = 4\n",
    "s = 'f'\n",
    "print(s)"
   ]
  },
  {
   "cell_type": "code",
   "execution_count": 8,
   "id": "d0d42a17-916d-4cf8-bf7d-5dec0142fc5c",
   "metadata": {},
   "outputs": [
    {
     "name": "stdout",
     "output_type": "stream",
     "text": [
      "7\n"
     ]
    }
   ],
   "source": [
    "type = 7\n",
    "print(type)"
   ]
  },
  {
   "cell_type": "code",
   "execution_count": null,
   "id": "28d8bffb-043b-4a83-bfc9-ff4a3647fdc2",
   "metadata": {},
   "outputs": [],
   "source": [
    "Type of Python\n",
    "int\n",
    "float\n",
    "complex"
   ]
  },
  {
   "cell_type": "code",
   "execution_count": 9,
   "id": "aa45f044-e830-4e43-a7f1-954887927ce7",
   "metadata": {},
   "outputs": [
    {
     "data": {
      "text/plain": [
       "-4"
      ]
     },
     "execution_count": 9,
     "metadata": {},
     "output_type": "execute_result"
    }
   ],
   "source": [
    "-7 //2"
   ]
  },
  {
   "cell_type": "code",
   "execution_count": 10,
   "id": "8699c475-6a3e-4241-b112-8f2794df3e1a",
   "metadata": {},
   "outputs": [
    {
     "data": {
      "text/plain": [
       "1"
      ]
     },
     "execution_count": 10,
     "metadata": {},
     "output_type": "execute_result"
    }
   ],
   "source": [
    "9//5"
   ]
  },
  {
   "cell_type": "code",
   "execution_count": 11,
   "id": "dfe7d334-4dcb-46fd-948b-ae6261e73ea4",
   "metadata": {},
   "outputs": [
    {
     "data": {
      "text/plain": [
       "4"
      ]
     },
     "execution_count": 11,
     "metadata": {},
     "output_type": "execute_result"
    }
   ],
   "source": [
    "9%5"
   ]
  },
  {
   "cell_type": "code",
   "execution_count": 12,
   "id": "2726ba59-9b41-48b5-b270-b90c23173388",
   "metadata": {},
   "outputs": [
    {
     "data": {
      "text/plain": [
       "-1"
      ]
     },
     "execution_count": 12,
     "metadata": {},
     "output_type": "execute_result"
    }
   ],
   "source": [
    "9%-5"
   ]
  },
  {
   "cell_type": "code",
   "execution_count": 13,
   "id": "23713d2b-b66d-4327-94d3-c80ed1dadf06",
   "metadata": {},
   "outputs": [
    {
     "data": {
      "text/plain": [
       "-4"
      ]
     },
     "execution_count": 13,
     "metadata": {},
     "output_type": "execute_result"
    }
   ],
   "source": [
    "-9%-5"
   ]
  },
  {
   "cell_type": "code",
   "execution_count": 3,
   "id": "580dc59f-8e35-41f9-bdee-e52764a9bc72",
   "metadata": {},
   "outputs": [
    {
     "data": {
      "text/plain": [
       "3.9"
      ]
     },
     "execution_count": 3,
     "metadata": {},
     "output_type": "execute_result"
    }
   ],
   "source": [
    "#модуль \n",
    "abs(-3.9)"
   ]
  },
  {
   "cell_type": "code",
   "execution_count": 4,
   "id": "b096443c-18d3-45a0-bfb8-6b8eae3fe3ae",
   "metadata": {},
   "outputs": [
    {
     "data": {
      "text/plain": [
       "-9"
      ]
     },
     "execution_count": 4,
     "metadata": {},
     "output_type": "execute_result"
    }
   ],
   "source": [
    "min(2, 5.4, -9, 7)"
   ]
  },
  {
   "cell_type": "code",
   "execution_count": 6,
   "id": "831c1303-c643-4119-a7da-99e2df3a9f40",
   "metadata": {},
   "outputs": [
    {
     "data": {
      "text/plain": [
       "7"
      ]
     },
     "execution_count": 6,
     "metadata": {},
     "output_type": "execute_result"
    }
   ],
   "source": [
    "max(2, 5.4, -9, 7)"
   ]
  },
  {
   "cell_type": "code",
   "execution_count": 9,
   "id": "f5a48b41-e441-466e-b4f8-5f787ddaca92",
   "metadata": {},
   "outputs": [
    {
     "data": {
      "text/plain": [
       "5"
      ]
     },
     "execution_count": 9,
     "metadata": {},
     "output_type": "execute_result"
    }
   ],
   "source": [
    "round(5.4)"
   ]
  },
  {
   "cell_type": "code",
   "execution_count": 12,
   "id": "3531039c-38d3-4ed6-b84f-b46dfe4d453a",
   "metadata": {},
   "outputs": [
    {
     "data": {
      "text/plain": [
       "5.453"
      ]
     },
     "execution_count": 12,
     "metadata": {},
     "output_type": "execute_result"
    }
   ],
   "source": [
    "round(5.453, 3)"
   ]
  },
  {
   "cell_type": "code",
   "execution_count": 11,
   "id": "2f8473f0-e280-4d8b-8c83-5da689f892bb",
   "metadata": {},
   "outputs": [
    {
     "data": {
      "text/plain": [
       "10"
      ]
     },
     "execution_count": 11,
     "metadata": {},
     "output_type": "execute_result"
    }
   ],
   "source": [
    "round(10.5)"
   ]
  },
  {
   "cell_type": "code",
   "execution_count": 14,
   "id": "105fa99b-b186-4a55-b3fd-b2114e93a3da",
   "metadata": {},
   "outputs": [
    {
     "data": {
      "text/plain": [
       "5000.0"
      ]
     },
     "execution_count": 14,
     "metadata": {},
     "output_type": "execute_result"
    }
   ],
   "source": [
    "round(5444.453, -3)"
   ]
  },
  {
   "cell_type": "code",
   "execution_count": 16,
   "id": "da38125d-e437-4f3b-bb4a-62e77b2f459a",
   "metadata": {},
   "outputs": [
    {
     "data": {
      "text/plain": [
       "42875"
      ]
     },
     "execution_count": 16,
     "metadata": {},
     "output_type": "execute_result"
    }
   ],
   "source": [
    "max(44, round(347.54), abs(-79), pow(35, 3))"
   ]
  },
  {
   "cell_type": "code",
   "execution_count": 18,
   "id": "cfef0adb-a415-40e0-aa3b-fdde86ff5a95",
   "metadata": {},
   "outputs": [
    {
     "data": {
      "text/plain": [
       "6"
      ]
     },
     "execution_count": 18,
     "metadata": {},
     "output_type": "execute_result"
    }
   ],
   "source": [
    "import math\n",
    "math.ceil(5.2)"
   ]
  },
  {
   "cell_type": "code",
   "execution_count": 19,
   "id": "4119ec42-89bd-4b72-80a0-34a2bd612741",
   "metadata": {},
   "outputs": [
    {
     "data": {
      "text/plain": [
       "-5"
      ]
     },
     "execution_count": 19,
     "metadata": {},
     "output_type": "execute_result"
    }
   ],
   "source": [
    "math.ceil(-5.2) \n",
    "#округление до большего целого"
   ]
  },
  {
   "cell_type": "code",
   "execution_count": 20,
   "id": "ff07fdd9-ca21-4df9-a01f-33b2693db8a3",
   "metadata": {},
   "outputs": [
    {
     "data": {
      "text/plain": [
       "-6"
      ]
     },
     "execution_count": 20,
     "metadata": {},
     "output_type": "execute_result"
    }
   ],
   "source": [
    "math.floor(-5.2)  #округление до меньшего целого"
   ]
  },
  {
   "cell_type": "code",
   "execution_count": 21,
   "id": "09100d53-f011-4763-9794-bebfdd1f1e82",
   "metadata": {},
   "outputs": [
    {
     "data": {
      "text/plain": [
       "24"
      ]
     },
     "execution_count": 21,
     "metadata": {},
     "output_type": "execute_result"
    }
   ],
   "source": [
    "math.factorial(4)"
   ]
  },
  {
   "cell_type": "code",
   "execution_count": 22,
   "id": "1d6491e7-6468-4530-a2b8-19ff324ad651",
   "metadata": {},
   "outputs": [],
   "source": [
    "#отбросить дробную часть"
   ]
  },
  {
   "cell_type": "code",
   "execution_count": 24,
   "id": "fe2a938a-fb38-465a-9969-557ec64ed19f",
   "metadata": {},
   "outputs": [
    {
     "data": {
      "text/plain": [
       "7"
      ]
     },
     "execution_count": 24,
     "metadata": {},
     "output_type": "execute_result"
    }
   ],
   "source": [
    "math.trunc(7.9)"
   ]
  },
  {
   "cell_type": "code",
   "execution_count": 25,
   "id": "44802e4a-7a3d-4221-aeda-1eaa8e40e216",
   "metadata": {},
   "outputs": [
    {
     "data": {
      "text/plain": [
       "7"
      ]
     },
     "execution_count": 25,
     "metadata": {},
     "output_type": "execute_result"
    }
   ],
   "source": [
    "int(7.8)"
   ]
  },
  {
   "cell_type": "code",
   "execution_count": 26,
   "id": "f8d54cf8-f43b-45ac-a841-97e22467e134",
   "metadata": {},
   "outputs": [
    {
     "data": {
      "text/plain": [
       "1.0"
      ]
     },
     "execution_count": 26,
     "metadata": {},
     "output_type": "execute_result"
    }
   ],
   "source": [
    "math.log2(2)"
   ]
  },
  {
   "cell_type": "code",
   "execution_count": 27,
   "id": "a4ae9dd9-8d25-4a02-9568-81ea95a0f5e9",
   "metadata": {},
   "outputs": [
    {
     "data": {
      "text/plain": [
       "1.252762968495368"
      ]
     },
     "execution_count": 27,
     "metadata": {},
     "output_type": "execute_result"
    }
   ],
   "source": [
    "math.log(3.5)"
   ]
  },
  {
   "cell_type": "code",
   "execution_count": 28,
   "id": "168fb1fe-d3c0-4497-8080-469bd4d4317c",
   "metadata": {},
   "outputs": [
    {
     "data": {
      "text/plain": [
       "3.0"
      ]
     },
     "execution_count": 28,
     "metadata": {},
     "output_type": "execute_result"
    }
   ],
   "source": [
    "math.log10(1000)"
   ]
  },
  {
   "cell_type": "code",
   "execution_count": 29,
   "id": "ae51ca13-8e3c-4a06-b052-0a10b7839f40",
   "metadata": {},
   "outputs": [
    {
     "data": {
      "text/plain": [
       "0.6991803252671503"
      ]
     },
     "execution_count": 29,
     "metadata": {},
     "output_type": "execute_result"
    }
   ],
   "source": [
    "math.log(3.5, 6)"
   ]
  },
  {
   "cell_type": "code",
   "execution_count": 30,
   "id": "690f4f57-8916-4aff-9969-c4ea65fb31bd",
   "metadata": {},
   "outputs": [
    {
     "data": {
      "text/plain": [
       "12.0"
      ]
     },
     "execution_count": 30,
     "metadata": {},
     "output_type": "execute_result"
    }
   ],
   "source": [
    "math.sqrt(144)"
   ]
  },
  {
   "cell_type": "code",
   "execution_count": null,
   "id": "3ecac6f9-ee71-4df8-a6ab-97825a1f9a04",
   "metadata": {},
   "outputs": [],
   "source": [
    "a, b = map(int, input().split())\n",
    "a=3\n",
    "b=5\n",
    "d = math.sqrt(pow(a,2) + pow(b,2))\n",
    "#d = round(d, 2)\n"
   ]
  },
  {
   "cell_type": "code",
   "execution_count": null,
   "id": "5acf074a-4fed-4cc5-8976-7be4b44351b8",
   "metadata": {},
   "outputs": [],
   "source": [
    "#Допишите программу для нахождения числа сочетаний из n по k (значения вводятся в программе), используя формулу\n",
    "# ыведите результат в консоль в виде целого числа с помощью функции print.\n",
    "n = 2\n",
    "k = 1\n",
    "\n",
    "d = (math.factorial(n)) // (math.factorial(k) * math.factorial(n-k))\n"
   ]
  },
  {
   "cell_type": "code",
   "execution_count": 37,
   "id": "dd5eb7fa-9fe6-4175-ad41-1a17229b2666",
   "metadata": {},
   "outputs": [
    {
     "data": {
      "text/plain": [
       "2"
      ]
     },
     "execution_count": 37,
     "metadata": {},
     "output_type": "execute_result"
    }
   ],
   "source": [
    "math.floor((40 + 5) / 20)"
   ]
  },
  {
   "cell_type": "code",
   "execution_count": null,
   "id": "18d67c99-c191-4dd3-a41b-474dc94b0db8",
   "metadata": {},
   "outputs": [],
   "source": [
    "СПИСКИ\n",
    "len() – определение числа элементов в списке (длина списка);\n",
    "max() – для нахождения максимального значения;\n",
    "min() – для нахождения минимального значения;\n",
    "sum() – для вычисления суммы;\n",
    "sorted() – для сортировки коллекции."
   ]
  },
  {
   "cell_type": "code",
   "execution_count": null,
   "id": "ab17c987-7e66-444b-93a7-e032ad688ab4",
   "metadata": {},
   "outputs": [],
   "source": [
    "вычислить среднюю температуру можно следующим образом:\n",
    "\n",
    "sum(t)/len(t)\n",
    "\n",
    "отсортировать список\n",
    "sorted(t)\n",
    "Если же нам нужно отсортировать список по невозрастанию (убыванию), то дополнительно прописывается параметр:\n",
    "\n",
    "sorted(t, reverse=True)\n",
    "\n",
    "Работа со списками\n",
    "При работе со списками часто используются следующие операторы:\n",
    "\n",
    "+ – соединение двух списков в один;\n",
    "* – дублирование списка;\n",
    "in – проверка вхождения элемента в список;\n",
    "del – удаление элемента списка.\n",
    "\n",
    "\n",
    "    \n",
    "    [1, 2, 3] + [4]\n",
    "Или, так:\n",
    "\n",
    "[1, 2, 3] + [True]\n",
    "Как видите, добавлять в список можно самые разные типы данных.\n",
    "\n",
    "Следующий оператор * выполняет дублирование списка указанное число раз:\n",
    "\n",
    "[\"Я\", \"люблю\", \"Python\"] * 3\n",
    "Этот оператор работает также как и со строками, здесь можно указывать только целое число (или переменную, ссылающуюся на целое значение). Прописывать дробные числа нельзя:\n",
    "\n",
    "[\"Я\", \"люблю\", \"Python\"] * 3.5"
   ]
  },
  {
   "cell_type": "code",
   "execution_count": 39,
   "id": "2ef88c76-6814-43da-a31e-9af54f74e376",
   "metadata": {},
   "outputs": [
    {
     "data": {
      "text/plain": [
       "True"
      ]
     },
     "execution_count": 39,
     "metadata": {},
     "output_type": "execute_result"
    }
   ],
   "source": [
    "lst = [\"Москва\", 1320, 5.8, True, \"Тверь\", False]\n",
    "1320 in lst"
   ]
  },
  {
   "cell_type": "code",
   "execution_count": 40,
   "id": "047caeec-816d-4ce0-bde0-e46dcdf82ea6",
   "metadata": {},
   "outputs": [
    {
     "data": {
      "text/plain": [
       "False"
      ]
     },
     "execution_count": 40,
     "metadata": {},
     "output_type": "execute_result"
    }
   ],
   "source": [
    "lst = [\"Москва\", [1320, 5.8], True, \"Тверь\", False]\n",
    "120 in lst"
   ]
  },
  {
   "cell_type": "code",
   "execution_count": 43,
   "id": "65df11a5-eecf-4570-a8f6-b344e66293b6",
   "metadata": {},
   "outputs": [
    {
     "data": {
      "text/plain": [
       "True"
      ]
     },
     "execution_count": 43,
     "metadata": {},
     "output_type": "execute_result"
    }
   ],
   "source": [
    "lst = [\"Москва\", [1320, 5.8], True, \"Тверь\", False]\n",
    "[1320, 5.8] in lst"
   ]
  },
  {
   "cell_type": "code",
   "execution_count": 46,
   "id": "20ea60e4-f4fa-4cc8-843f-ccce5104880c",
   "metadata": {},
   "outputs": [],
   "source": [
    "#оператор del выполняет удаление элемента списка по его индексу, например, так:\n",
    "lst = [\"Москва\", [1320, 5.8], True, \"Тверь\", False]\n",
    "\n",
    "del lst[True]"
   ]
  },
  {
   "cell_type": "code",
   "execution_count": 47,
   "id": "808ca023-1bf1-4906-8b66-146fc739f313",
   "metadata": {},
   "outputs": [
    {
     "ename": "TypeError",
     "evalue": "Kernel.raw_input() takes from 1 to 2 positional arguments but 4 were given",
     "output_type": "error",
     "traceback": [
      "\u001b[0;31m---------------------------------------------------------------------------\u001b[0m",
      "\u001b[0;31mTypeError\u001b[0m                                 Traceback (most recent call last)",
      "Cell \u001b[0;32mIn[47], line 1\u001b[0m\n\u001b[0;32m----> 1\u001b[0m lst \u001b[38;5;241m=\u001b[39m \u001b[38;5;28mlist\u001b[39m(\u001b[38;5;28mmap\u001b[39m(\u001b[38;5;28mint\u001b[39m, \u001b[38;5;28;43minput\u001b[39;49m\u001b[43m(\u001b[49m\u001b[38;5;241;43m23\u001b[39;49m\u001b[43m,\u001b[49m\u001b[43m \u001b[49m\u001b[38;5;241;43m23\u001b[39;49m\u001b[43m,\u001b[49m\u001b[43m \u001b[49m\u001b[38;5;241;43m23\u001b[39;49m\u001b[43m)\u001b[49m\u001b[38;5;241m.\u001b[39msplit()))\n",
      "\u001b[0;31mTypeError\u001b[0m: Kernel.raw_input() takes from 1 to 2 positional arguments but 4 were given"
     ]
    }
   ],
   "source": [
    "Подвиг 3. На вход программе подаются три целых числа, записанных в одну строку через пробел. Необходимо прочитать эти числа и сформировать список lst, хранящий прочитанные значения в порядке их чтения. Результат (список) выведите на экран, используя команду:\n",
    "\n",
    "print(lst)\n",
    "Sample Input:\n",
    "\n",
    "v = 8 11 3\n",
    "\n",
    "\n",
    "lst = list(map(int, input().split()))"
   ]
  },
  {
   "cell_type": "code",
   "execution_count": null,
   "id": "1e98a963-242f-4180-9a14-44dc2166ee91",
   "metadata": {},
   "outputs": [],
   "source": [
    "#Выведите значение последнего элемента списка cities на экран.\n",
    "\n",
    "cities = input().split()\n",
    "print(cities[-1])"
   ]
  },
  {
   "cell_type": "code",
   "execution_count": null,
   "id": "92db140d-30fe-4bf4-8048-840971e7e762",
   "metadata": {},
   "outputs": [],
   "source": [
    "#Необходимо вычислить средний балл списка marks и вывести его на экран с точностью до десятых (один знак после запятой).\n",
    "marks = list(map(int, input().split()))\n",
    "print(round(sum(marks) / len(marks), 1))\n",
    "\n"
   ]
  },
  {
   "cell_type": "code",
   "execution_count": null,
   "id": "b5c0f8e2-6c6b-47bc-983e-1a4cc254de22",
   "metadata": {},
   "outputs": [],
   "source": [
    "#На вход программе подается строка с числами новых подписчиков канала по дням, записанных в одну строку через пробел. Необходимо прочитать эти числа и сохранить в списке lst, как целые числа в порядке их следования в строке. Затем, отсортировать элементы этого списка по убыванию и результат вывести на экран командой:\n",
    "lst = sorted(list(map(int, input().split())), reverse=True)\n",
    "print(*lst)"
   ]
  },
  {
   "cell_type": "code",
   "execution_count": 51,
   "id": "2c059c54-ef9a-4840-aa3c-23470dd0b06d",
   "metadata": {
    "scrolled": true
   },
   "outputs": [
    {
     "ename": "KeyboardInterrupt",
     "evalue": "Interrupted by user",
     "output_type": "error",
     "traceback": [
      "\u001b[0;31m---------------------------------------------------------------------------\u001b[0m",
      "\u001b[0;31mKeyboardInterrupt\u001b[0m                         Traceback (most recent call last)",
      "Cell \u001b[0;32mIn[51], line 4\u001b[0m\n\u001b[1;32m      2\u001b[0m cities \u001b[38;5;241m=\u001b[39m [\u001b[38;5;124m\"\u001b[39m\u001b[38;5;124mМосква\u001b[39m\u001b[38;5;124m\"\u001b[39m, \u001b[38;5;124m\"\u001b[39m\u001b[38;5;124mТверь\u001b[39m\u001b[38;5;124m\"\u001b[39m, \u001b[38;5;124m\"\u001b[39m\u001b[38;5;124mВологда\u001b[39m\u001b[38;5;124m\"\u001b[39m]\n\u001b[1;32m      3\u001b[0m \u001b[38;5;66;03m#lst = cities + list(map(str, input().split()))\u001b[39;00m\n\u001b[0;32m----> 4\u001b[0m lst \u001b[38;5;241m=\u001b[39m cities \u001b[38;5;241m+\u001b[39m \u001b[38;5;28;43minput\u001b[39;49m\u001b[43m(\u001b[49m\u001b[43m)\u001b[49m\u001b[38;5;241m.\u001b[39msplit()\n\u001b[1;32m      6\u001b[0m \u001b[38;5;66;03m#print(*lst)\u001b[39;00m\n",
      "File \u001b[0;32m~/.pyenv/versions/3.10.13/lib/python3.10/site-packages/ipykernel/kernelbase.py:1282\u001b[0m, in \u001b[0;36mKernel.raw_input\u001b[0;34m(self, prompt)\u001b[0m\n\u001b[1;32m   1280\u001b[0m     msg \u001b[38;5;241m=\u001b[39m \u001b[38;5;124m\"\u001b[39m\u001b[38;5;124mraw_input was called, but this frontend does not support input requests.\u001b[39m\u001b[38;5;124m\"\u001b[39m\n\u001b[1;32m   1281\u001b[0m     \u001b[38;5;28;01mraise\u001b[39;00m StdinNotImplementedError(msg)\n\u001b[0;32m-> 1282\u001b[0m \u001b[38;5;28;01mreturn\u001b[39;00m \u001b[38;5;28;43mself\u001b[39;49m\u001b[38;5;241;43m.\u001b[39;49m\u001b[43m_input_request\u001b[49m\u001b[43m(\u001b[49m\n\u001b[1;32m   1283\u001b[0m \u001b[43m    \u001b[49m\u001b[38;5;28;43mstr\u001b[39;49m\u001b[43m(\u001b[49m\u001b[43mprompt\u001b[49m\u001b[43m)\u001b[49m\u001b[43m,\u001b[49m\n\u001b[1;32m   1284\u001b[0m \u001b[43m    \u001b[49m\u001b[38;5;28;43mself\u001b[39;49m\u001b[38;5;241;43m.\u001b[39;49m\u001b[43m_parent_ident\u001b[49m\u001b[43m[\u001b[49m\u001b[38;5;124;43m\"\u001b[39;49m\u001b[38;5;124;43mshell\u001b[39;49m\u001b[38;5;124;43m\"\u001b[39;49m\u001b[43m]\u001b[49m\u001b[43m,\u001b[49m\n\u001b[1;32m   1285\u001b[0m \u001b[43m    \u001b[49m\u001b[38;5;28;43mself\u001b[39;49m\u001b[38;5;241;43m.\u001b[39;49m\u001b[43mget_parent\u001b[49m\u001b[43m(\u001b[49m\u001b[38;5;124;43m\"\u001b[39;49m\u001b[38;5;124;43mshell\u001b[39;49m\u001b[38;5;124;43m\"\u001b[39;49m\u001b[43m)\u001b[49m\u001b[43m,\u001b[49m\n\u001b[1;32m   1286\u001b[0m \u001b[43m    \u001b[49m\u001b[43mpassword\u001b[49m\u001b[38;5;241;43m=\u001b[39;49m\u001b[38;5;28;43;01mFalse\u001b[39;49;00m\u001b[43m,\u001b[49m\n\u001b[1;32m   1287\u001b[0m \u001b[43m\u001b[49m\u001b[43m)\u001b[49m\n",
      "File \u001b[0;32m~/.pyenv/versions/3.10.13/lib/python3.10/site-packages/ipykernel/kernelbase.py:1325\u001b[0m, in \u001b[0;36mKernel._input_request\u001b[0;34m(self, prompt, ident, parent, password)\u001b[0m\n\u001b[1;32m   1322\u001b[0m \u001b[38;5;28;01mexcept\u001b[39;00m \u001b[38;5;167;01mKeyboardInterrupt\u001b[39;00m:\n\u001b[1;32m   1323\u001b[0m     \u001b[38;5;66;03m# re-raise KeyboardInterrupt, to truncate traceback\u001b[39;00m\n\u001b[1;32m   1324\u001b[0m     msg \u001b[38;5;241m=\u001b[39m \u001b[38;5;124m\"\u001b[39m\u001b[38;5;124mInterrupted by user\u001b[39m\u001b[38;5;124m\"\u001b[39m\n\u001b[0;32m-> 1325\u001b[0m     \u001b[38;5;28;01mraise\u001b[39;00m \u001b[38;5;167;01mKeyboardInterrupt\u001b[39;00m(msg) \u001b[38;5;28;01mfrom\u001b[39;00m\u001b[38;5;250m \u001b[39m\u001b[38;5;28;01mNone\u001b[39;00m\n\u001b[1;32m   1326\u001b[0m \u001b[38;5;28;01mexcept\u001b[39;00m \u001b[38;5;167;01mException\u001b[39;00m:\n\u001b[1;32m   1327\u001b[0m     \u001b[38;5;28mself\u001b[39m\u001b[38;5;241m.\u001b[39mlog\u001b[38;5;241m.\u001b[39mwarning(\u001b[38;5;124m\"\u001b[39m\u001b[38;5;124mInvalid Message:\u001b[39m\u001b[38;5;124m\"\u001b[39m, exc_info\u001b[38;5;241m=\u001b[39m\u001b[38;5;28;01mTrue\u001b[39;00m)\n",
      "\u001b[0;31mKeyboardInterrupt\u001b[0m: Interrupted by user"
     ]
    }
   ],
   "source": [
    "#Задача: объединить 2 списка\n",
    "cities = [\"Москва\", \"Тверь\", \"Вологда\"]\n",
    "#lst = cities + list(map(str, input().split()))\n",
    "lst = cities + input().split()\n",
    "\n",
    "#print(*lst)"
   ]
  },
  {
   "cell_type": "code",
   "execution_count": 57,
   "id": "71cb169a-535b-4078-9223-9cb42101f552",
   "metadata": {},
   "outputs": [
    {
     "name": "stdout",
     "output_type": "stream",
     "text": [
      "['ССЫЛКА', 'Тверь', 'Вологда']\n",
      "['Москва', 'Minsk', 'Вологда']\n",
      "['ССЫЛКА', 'Тверь', 'Вологда']\n"
     ]
    }
   ],
   "source": [
    "#LIST СПИСКИ\n",
    "#копия списка\n",
    "cities = [\"Москва\", \"Тверь\", \"Вологда\"]\n",
    "a = cities #создает ссылку (если внести изменения - отобразится и в cities)\n",
    "c = cities[:] #создает новый список, копируя исходный  \n",
    "c[1] = \"Minsk\"\n",
    "a[0] = \"ССЫЛКА\"\n",
    "print(a)\n",
    "print(c)\n",
    "print(cities)"
   ]
  },
  {
   "cell_type": "code",
   "execution_count": 58,
   "id": "49081fc6-884c-4391-a003-c631e2840668",
   "metadata": {},
   "outputs": [
    {
     "data": {
      "text/plain": [
       "[6, 7, 7]"
      ]
     },
     "execution_count": 58,
     "metadata": {},
     "output_type": "execute_result"
    }
   ],
   "source": [
    "marks = [4, 5, 6, 7, 17, 9]\n",
    "marks[2:-1]"
   ]
  },
  {
   "cell_type": "code",
   "execution_count": 69,
   "id": "3ab7d757-50da-4db7-a03f-ab3477e8ef3d",
   "metadata": {},
   "outputs": [
    {
     "name": "stdout",
     "output_type": "stream",
     "text": [
      "[6, 17, 55]\n",
      "[4, 6, 17]\n",
      "[5, 17, 77, 234]\n",
      "[4, 7, 55, 122]\n"
     ]
    }
   ],
   "source": [
    "marks = [4, 5, 6, 7, 17, 9, 55, 77, 12, 122, 234]\n",
    "print(marks[2:7:2]) #берем с 2 индекса по 7 с шагом 2\n",
    "print(marks[:5:2]) #берем с начала до 5 с шагом 2\n",
    "print(marks[1::3]) #берем с начала с шагом 3\n",
    "marks = [4, 5, 6, 7, 17, 9, 55, 77, 12, 122]\n",
    "print(marks[::3])"
   ]
  },
  {
   "cell_type": "code",
   "execution_count": 72,
   "id": "3d261f8e-a487-49fb-8082-082060e19dd5",
   "metadata": {},
   "outputs": [
    {
     "name": "stdout",
     "output_type": "stream",
     "text": [
      "[4, 5, 'хорошо', 'удовлетв.', 17, 9, 55, 77, 12, 122]\n"
     ]
    }
   ],
   "source": [
    "#Внести изменения в список [4, 5, 6, 7, 17, 9, 55, 77, 12, 122, 234]\n",
    "marks[2:4] = [\"хорошо\", \"удовлетв.\"] #от 2 инд, последний не включен\n",
    "print(marks)"
   ]
  },
  {
   "cell_type": "code",
   "execution_count": null,
   "id": "3fd6cd23-c131-4547-ad0a-6bdbe49d87d3",
   "metadata": {},
   "outputs": [],
   "source": [
    "marks[::2] = [0, 0, 0]"
   ]
  },
  {
   "cell_type": "code",
   "execution_count": 79,
   "id": "5e30101b-3723-43aa-aad6-6977e112a7c7",
   "metadata": {},
   "outputs": [
    {
     "name": "stdout",
     "output_type": "stream",
     "text": [
      "[2, 3, 'хорошо', 'удовлетв.', 5, 2]\n",
      "[0, 3, 0, 'удовлетв.', 0, 2]\n"
     ]
    }
   ],
   "source": [
    "marks = [2, 3, 4, 3, 5, 2]\n",
    "marks[2:4] = [\"хорошо\", \"удовлетв.\"]  #от 2 индекса, последний не включен\n",
    "print(marks)\n",
    "marks[::2] = [0, 0, 0] #от начала с шагом 2 добавили нулей\n",
    "print(marks)"
   ]
  },
  {
   "cell_type": "code",
   "execution_count": 80,
   "id": "3a82cd71-0a84-4b3c-b304-238bd0fbf9e1",
   "metadata": {},
   "outputs": [
    {
     "name": "stdout",
     "output_type": "stream",
     "text": [
      "[0, 3, 0, 'удовлетв.', 0, 2, 3]\n"
     ]
    }
   ],
   "source": [
    "marks += [3]\n",
    "print(marks)"
   ]
  },
  {
   "cell_type": "code",
   "execution_count": 81,
   "id": "b6be03f5-3249-4586-b8a8-4138467f8c91",
   "metadata": {},
   "outputs": [
    {
     "ename": "ValueError",
     "evalue": "attempt to assign sequence of size 3 to extended slice of size 4",
     "output_type": "error",
     "traceback": [
      "\u001b[0;31m---------------------------------------------------------------------------\u001b[0m",
      "\u001b[0;31mValueError\u001b[0m                                Traceback (most recent call last)",
      "Cell \u001b[0;32mIn[81], line 1\u001b[0m\n\u001b[0;32m----> 1\u001b[0m \u001b[43mmarks\u001b[49m\u001b[43m[\u001b[49m\u001b[43m:\u001b[49m\u001b[43m:\u001b[49m\u001b[38;5;241;43m2\u001b[39;49m\u001b[43m]\u001b[49m \u001b[38;5;241m=\u001b[39m [\u001b[38;5;241m0\u001b[39m, \u001b[38;5;241m0\u001b[39m, \u001b[38;5;241m0\u001b[39m]\n",
      "\u001b[0;31mValueError\u001b[0m: attempt to assign sequence of size 3 to extended slice of size 4"
     ]
    }
   ],
   "source": [
    "marks[::2] = [0, 0, 0] \n",
    "#так как в списке больше элементов. \n",
    "#лучше использовать конкретный диапазон до marks[:5:2]"
   ]
  },
  {
   "cell_type": "code",
   "execution_count": 85,
   "id": "76f8caab-e5bc-403d-a344-6f11eb277b67",
   "metadata": {},
   "outputs": [
    {
     "name": "stdout",
     "output_type": "stream",
     "text": [
      "[4, 5, 10, 20, 17, 9, 55, 77, 12, 122, 234]\n"
     ]
    }
   ],
   "source": [
    "#Также, для группового присваивания можно использовать и такой синтаксис:\n",
    "marks = [4, 5, 6, 7, 17, 9, 55, 77, 12, 122, 234]\n",
    "marks[2:4] = 10, 20\n",
    "print(marks)"
   ]
  },
  {
   "cell_type": "code",
   "execution_count": null,
   "id": "a06edcfa-4e8c-44bf-9c58-0ffb654f2d48",
   "metadata": {},
   "outputs": [],
   "source": [
    "Спецсимволы и экранирование символов"
   ]
  },
  {
   "cell_type": "code",
   "execution_count": null,
   "id": "3c5af950-d639-4e0b-bb51-4c78b4e84c14",
   "metadata": {},
   "outputs": [],
   "source": [
    "Обозначение\n",
    "\n",
    "Описание\n",
    "\n",
    "\\n    Перевод строки\n",
    "\n",
    "\\\\    Символ обратного слеша\n",
    "\n",
    "\\’    Символ апострофа\n",
    "\n",
    "\\\"    Символ двойной кавычки\n",
    "\n",
    "\\t    Горизонтальная табуляция (размером в 4 пробела)\n",
    "\n",
    "\\a    Звуковой сигнал\n",
    "\n",
    "\\b    Эмуляция клавиши BackSpace\n",
    "\n",
    "\\f    Перевод формата\n",
    "\n",
    "\\r    Возврат каретки\n",
    "\n",
    "\\v    Вертикальная табуляция\n",
    "\n",
    "\\0    Символ Null (не признак конца строки)"
   ]
  },
  {
   "cell_type": "code",
   "execution_count": null,
   "id": "ffb2f624-a509-44ed-8439-6bf132b9f951",
   "metadata": {},
   "outputs": [],
   "source": [
    "t = \"panda needs\\npython\"\n"
   ]
  },
  {
   "cell_type": "code",
   "execution_count": null,
   "id": "f8e5c865-2c2a-4363-a5dd-bd98eb153b94",
   "metadata": {},
   "outputs": [],
   "source": [
    "Основные методы списков\n"
   ]
  },
  {
   "cell_type": "code",
   "execution_count": null,
   "id": "98f02f8c-474e-4738-a245-3c5a94f1e0ed",
   "metadata": {},
   "outputs": [],
   "source": [
    "Метод\n",
    "\n",
    "Описание\n",
    "\n",
    "append()       Добавляет элемент в конец списка\n",
    "\n",
    "insert()       ВСТАВЛЯЕТ ПО ИНДЕКСУ + ЧТО ВСТАВИТЬ a.insert(3, -1000) Здесь мы указываем индекс вставляемого элемента и далее значение самого элемента.\n",
    "\n",
    "remove()       Удаляет элемент по ЗНАЧЕНИЮ\n",
    "                    Он находит первый подходящий элемент и удаляет его, остальные не трогает. Если же указывается несуществующий элемент:\n",
    "                    a.remove('hello2')\n",
    "\n",
    "pop()          Удаляет ПОСЛЕДНИЙ элемент, либо ПО ИНДЕКСУ\n",
    "                    выполняет удаление последнего элемента и при этом, возвращает его значение. В самом списке последний элемент пропадает. То есть, с помощью этого метода можно сохранять удаленный элемент в какой-либо переменной:\n",
    "                    end = a.pop()\n",
    "\n",
    "clear()        Очищает список (удаляет все элементы)\n",
    "\n",
    "copy()         Возвращает копию списка. аналогично методу c = list(a)\n",
    "\n",
    "count()        Возвращает число элементов с указанным значением\n",
    "                    a = [1, -54, 3, 23, 43, 0, -45, 0]\n",
    "                    a.count(0) #показывает, что в списке два 0\n",
    "\n",
    "index()        Возвращает индекс первого найденного элемента\n",
    "                    Если нужно найти 2е вхождение, то можно указать с какого места(индекса) начинать поиск\n",
    "                    c.index(1) - это команда найти индекс интересуемого значения (1)\n",
    "                    c.index(1, 4) - это команда найти индекс интересуемого значения (1), но с 4го индекса\n",
    "reverse()      Меняет порядок следования элементов на обратный\n",
    "\n",
    "sort()         Сортирует элементы списка"
   ]
  },
  {
   "cell_type": "code",
   "execution_count": 95,
   "id": "e24baacc-a29e-4e78-af02-c0f0766ea488",
   "metadata": {},
   "outputs": [
    {
     "name": "stdout",
     "output_type": "stream",
     "text": [
      "[1, -54, 3, 23, 43, 0, -45, 0]\n"
     ]
    }
   ],
   "source": [
    "a = [1, -54, 3, 23, 43, 0, -45, 0]\n",
    "c = a\n",
    "print(c)"
   ]
  },
  {
   "cell_type": "code",
   "execution_count": 96,
   "id": "35d69066-1523-4a83-8fff-52d6295146a1",
   "metadata": {},
   "outputs": [
    {
     "data": {
      "text/plain": [
       "2"
      ]
     },
     "execution_count": 96,
     "metadata": {},
     "output_type": "execute_result"
    }
   ],
   "source": [
    "c.count(0) #показывает, что в списке два 0"
   ]
  },
  {
   "cell_type": "code",
   "execution_count": null,
   "id": "512895d8-85b0-47aa-9f06-41077ac48a8c",
   "metadata": {},
   "outputs": [],
   "source": [
    "#возвращает копию списка.\n",
    "c = a.copy()\n",
    "#Это эквивалентно конструкции:\n",
    "c = list(a)"
   ]
  },
  {
   "cell_type": "code",
   "execution_count": 97,
   "id": "672fbc7e-6b32-44e1-a3a7-d5ccaf5c1286",
   "metadata": {},
   "outputs": [
    {
     "name": "stdout",
     "output_type": "stream",
     "text": [
      "6\n"
     ]
    }
   ],
   "source": [
    "a = [1, -54, 3, 23, 43, 0, -45, 0]\n",
    "print(a.index(-45))"
   ]
  },
  {
   "cell_type": "code",
   "execution_count": 100,
   "id": "3939c846-0c61-4424-a94b-d04966996327",
   "metadata": {},
   "outputs": [
    {
     "data": {
      "text/plain": [
       "3"
      ]
     },
     "execution_count": 100,
     "metadata": {},
     "output_type": "execute_result"
    }
   ],
   "source": [
    "a.index(23, 1, 5) #Ищем число 23 с 1-го индекса и по 5-й не включая его. \n",
    "#Если элемент не находится, то метод приводит к ошибке. \n",
    "\n"
   ]
  },
  {
   "cell_type": "code",
   "execution_count": 102,
   "id": "4a8b7564-ff69-4b62-b145-e84201f7c0a1",
   "metadata": {},
   "outputs": [
    {
     "name": "stdout",
     "output_type": "stream",
     "text": [
      "True\n"
     ]
    }
   ],
   "source": [
    "#Чтобы этого избежать - проверить: существует ли такой элемент в нашем срезе:\n",
    "\n",
    "print(23 in a[1:4])"
   ]
  },
  {
   "cell_type": "code",
   "execution_count": 103,
   "id": "f02f8bac-06f8-40af-a22b-2d1a70230036",
   "metadata": {},
   "outputs": [
    {
     "ename": "TypeError",
     "evalue": "'>' not supported between instances of 'int' and 'str'",
     "output_type": "error",
     "traceback": [
      "\u001b[0;31m---------------------------------------------------------------------------\u001b[0m",
      "\u001b[0;31mTypeError\u001b[0m                                 Traceback (most recent call last)",
      "Cell \u001b[0;32mIn[103], line 8\u001b[0m\n\u001b[1;32m      6\u001b[0m [\u001b[38;5;241m1\u001b[39m, \u001b[38;5;241m2\u001b[39m, \u001b[38;5;241m3\u001b[39m] \u001b[38;5;241m!=\u001b[39m [\u001b[38;5;241m1\u001b[39m, \u001b[38;5;241m2\u001b[39m, \u001b[38;5;241m3\u001b[39m]   \u001b[38;5;66;03m# False\u001b[39;00m\n\u001b[1;32m      7\u001b[0m [\u001b[38;5;241m1\u001b[39m, \u001b[38;5;241m2\u001b[39m, \u001b[38;5;241m3\u001b[39m] \u001b[38;5;241m>\u001b[39m [\u001b[38;5;241m1\u001b[39m, \u001b[38;5;241m2\u001b[39m, \u001b[38;5;241m3\u001b[39m]    \u001b[38;5;66;03m# False\u001b[39;00m\n\u001b[0;32m----> 8\u001b[0m \u001b[43m[\u001b[49m\u001b[38;5;241;43m1\u001b[39;49m\u001b[43m,\u001b[49m\u001b[43m \u001b[49m\u001b[38;5;241;43m2\u001b[39;49m\u001b[43m,\u001b[49m\u001b[43m \u001b[49m\u001b[38;5;241;43m3\u001b[39;49m\u001b[43m]\u001b[49m\u001b[43m \u001b[49m\u001b[38;5;241;43m>\u001b[39;49m\u001b[43m \u001b[49m\u001b[43m[\u001b[49m\u001b[38;5;241;43m1\u001b[39;49m\u001b[43m,\u001b[49m\u001b[43m \u001b[49m\u001b[38;5;241;43m2\u001b[39;49m\u001b[43m,\u001b[49m\u001b[43m \u001b[49m\u001b[38;5;124;43m\"\u001b[39;49m\u001b[38;5;124;43mabc\u001b[39;49m\u001b[38;5;124;43m\"\u001b[39;49m\u001b[43m]\u001b[49m\n",
      "\u001b[0;31mTypeError\u001b[0m: '>' not supported between instances of 'int' and 'str'"
     ]
    }
   ],
   "source": [
    "#Сравнение списков\n",
    "#В заключение этого занятия рассмотрим возможности сравнения списков между собой с помощью операторов:\n",
    "#>, <, ==, !=\n",
    "\n",
    "[1, 2, 3] == [1, 2, 3]   # True\n",
    "[1, 2, 3] != [1, 2, 3]   # False\n",
    "[1, 2, 3] > [1, 2, 3]    # False\n",
    "[1, 2, 3] > [1, 2, \"ab\"] # False\n"
   ]
  },
  {
   "cell_type": "code",
   "execution_count": null,
   "id": "5ef855c5-b5e1-400d-aacc-9605b88bea88",
   "metadata": {},
   "outputs": [],
   "source": [
    "c.reverse()\n",
    "#меняет порядок следования элементов на обратный.\n",
    "\n",
    "c.sort()\n",
    "#выполняет сортировку элементов списка по возрастанию. \n",
    "#Для сортировки по убыванию, следует этот метод записать так:\n",
    "\n",
    "c.sort(reverse=True)"
   ]
  },
  {
   "cell_type": "code",
   "execution_count": null,
   "id": "32a2d76e-f47d-4efd-8a2b-60e4093564a4",
   "metadata": {},
   "outputs": [],
   "source": [
    "На вход программе подается строка, содержащая целые числа, записанные через пробел. Необходимо прочитать эти числа и сохранить в списке lst (как числа в порядке их следования в строке). Проверить, если первое число сформированного списка не равно последнему числу, то в список добавить значение True, а иначе - добавить значение False. Результирующий список lst вывести на экран командой:\n",
    "print(*lst)\n",
    "Реализовать задачу без использования условных операторов."
   ]
  },
  {
   "cell_type": "code",
   "execution_count": null,
   "id": "007417b4-b6b2-4000-a96e-c608f46a830e",
   "metadata": {},
   "outputs": [],
   "source": [
    "lst = input().split()\n",
    "#s = (lst[1] == lst[-1])\n",
    "print(*lst, (lst[0] != lst[-1]))\n"
   ]
  },
  {
   "cell_type": "code",
   "execution_count": null,
   "id": "34842c21-f487-460f-b42d-3b46eb43e4f3",
   "metadata": {},
   "outputs": [],
   "source": [
    "На вход программы подается строка с именем, отчеством и фамилией, записанными через пробел. Необходимо прочитать эту строку и представить прочитанные данные в виде новой строки в формате:\n",
    "\n",
    "Фамилия И.О.\n",
    "\n",
    "Например, строка: \"Сергей Михайлович Балакирев\" преобразуется в строку: \"Балакирев С.М.\"\n",
    "\n"
   ]
  },
  {
   "cell_type": "code",
   "execution_count": 105,
   "id": "c609ddf8-80b6-4aba-97f0-4b35eae47400",
   "metadata": {},
   "outputs": [
    {
     "name": "stdout",
     "output_type": "stream",
     "text": [
      "['Сергей', 'Михайлович', 'Балакирев']\n"
     ]
    }
   ],
   "source": [
    "name = 'Сергей Михайлович Балакирев'\n",
    "v = name.split()\n",
    "print(v)"
   ]
  },
  {
   "cell_type": "code",
   "execution_count": 115,
   "id": "cc604a4e-fe9f-4a5c-b88f-71aa43b06813",
   "metadata": {},
   "outputs": [
    {
     "name": "stdout",
     "output_type": "stream",
     "text": [
      "Балакирев М. С.\n"
     ]
    }
   ],
   "source": [
    "name = 'Сергей Михайлович Балакирев'\n",
    "v = name.split()\n",
    "v[0] = v[0][0] + '.'\n",
    "v[1] = v[1][0] + '.'\n",
    "v.reverse()\n",
    "print(\" \".join(v))"
   ]
  },
  {
   "cell_type": "code",
   "execution_count": null,
   "id": "d6c476e2-8375-4149-a667-d38b5308e1f8",
   "metadata": {},
   "outputs": [],
   "source": [
    "f-строки"
   ]
  },
  {
   "cell_type": "code",
   "execution_count": null,
   "id": "7e69c1e2-4ff6-46f9-9cbb-665c64e78cab",
   "metadata": {},
   "outputs": [],
   "source": [
    "name = input()\n",
    "surname = input()\n",
    "age = input()\n",
    "print(f'Уважаемый {name} {surname}! Поздравляем Вас с {age}-летием!')\n",
    "\n"
   ]
  },
  {
   "cell_type": "code",
   "execution_count": null,
   "id": "d0ad2e76-e7f0-406e-ac98-d198edab1f6e",
   "metadata": {},
   "outputs": [],
   "source": [
    "w, d, h = input().split()\n",
    "\n",
    "print(f'Габариты: {w} x {d} x {h}')\n",
    "\n"
   ]
  },
  {
   "cell_type": "code",
   "execution_count": null,
   "id": "6b959fd1-1772-4de3-9154-14ad4f62378e",
   "metadata": {},
   "outputs": [],
   "source": [
    "Подвиг 3. На вход программе подаются два целых числа, записанных в одну строку через пробел. Необходимо прочитать эти числа и сформировать новую F-строку со значениями прочитанных чисел, записанных по возрастанию через пробел. Полученную строку вывести на экран.\n",
    "\n",
    "P. S. Реализовать программу без использования условных операторов. Подумайте, как это можно сделать.\n",
    "\n",
    "Sample Input:\n",
    "\n",
    "18 11\n",
    "Sample Output:\n",
    "\n",
    "11 18"
   ]
  },
  {
   "cell_type": "code",
   "execution_count": null,
   "id": "57de61d4-81f1-4a34-bda1-e5f33cdf15b7",
   "metadata": {},
   "outputs": [],
   "source": [
    "#Это создает массив\n",
    "\n",
    "lst = sorted(list(map(int, input().split())))\n",
    "\n",
    "print(lst)\n"
   ]
  },
  {
   "cell_type": "code",
   "execution_count": null,
   "id": "38f3276b-b028-4580-8fb3-88ba234032a6",
   "metadata": {},
   "outputs": [],
   "source": [
    "#а нужна строка,поэтому преобразуем в строку\n",
    "lst = sorted(list(map(int, input().split())))\n",
    "res = \" \".join(map(str, lst))\n",
    "\n",
    "\n",
    "print(*sorted(map(int, input().split())))\n"
   ]
  },
  {
   "cell_type": "code",
   "execution_count": null,
   "id": "3e4aafeb-98e9-4203-9746-4924ab58cda0",
   "metadata": {},
   "outputs": [],
   "source": [
    " На вход программе подается адрес в формате (каждое значение с новой строки):\n",
    "\n",
    "город (строка);\n",
    "улица (строка);\n",
    "номер дома (целое число);\n",
    "номер квартиры (целое число).\n",
    "Необходимо прочитать эти данные и сформировать строку по шаблону, используя F-строку:\n",
    "\n",
    "\"г. <город>, ул. <улица>, д. <номер дома>, кв. <номер квартиры>\"\n",
    "\n",
    "Результат вывести на экран (без кавычек)."
   ]
  },
  {
   "cell_type": "code",
   "execution_count": null,
   "id": "a0f82f0b-9d64-4c15-bc0f-264f59f12bd9",
   "metadata": {},
   "outputs": [],
   "source": [
    "a, b, c, d = input(),input(),int(input()),int(input())\n",
    "\n",
    "print(f'г. {a}, ул. {b}, д. {c}, кв. {d}')\n"
   ]
  },
  {
   "cell_type": "code",
   "execution_count": null,
   "id": "94553af5-3de4-4346-889b-667a1b06dafa",
   "metadata": {},
   "outputs": [],
   "source": [
    "На вход программе подаются следующие данные (каждое с новой строки):\n",
    "\n",
    "курс доллара (вещественное значение);\n",
    "число рублей (целое число) для обмена рублей на доллары.\n",
    "Необходимо прочитать эти данные и вычислить целое количество получаемых долларов (с отбрасыванием дробной части) и сформировать строку, по шаблону:\n",
    "\n",
    "\"Вы можете получить <долларов>$ за <число рублей> рублей по курсу <курс доллара>\"\n",
    "\n",
    "Вывести полученную строку на экран (без кавычек)."
   ]
  },
  {
   "cell_type": "code",
   "execution_count": null,
   "id": "ee05615c-518a-4c46-85e8-396fe47c879d",
   "metadata": {},
   "outputs": [],
   "source": [
    "# input\n",
    "# 73.54\n",
    "# 1000\n",
    "usd, rub = float(input()),int(input())\n",
    "print(f'Вы можете получить {round(rub//usd)}$ за {rub} рублей по курсу {usd}')\n",
    "\n"
   ]
  },
  {
   "cell_type": "code",
   "execution_count": 119,
   "id": "55ad0e15-a1aa-4ee1-874e-971bf00be764",
   "metadata": {},
   "outputs": [
    {
     "name": "stdout",
     "output_type": "stream",
     "text": [
      "4560901824\n",
      "4560901824\n",
      "4545964224\n",
      "4559400576\n"
     ]
    }
   ],
   "source": [
    "a = [1, -54, 3, 23, 43, 0, -45, 0]\n",
    "c = a          # link\n",
    "d = a.copy()   #new lst\n",
    "e = a[:]       #new lst\n",
    "print(id(a))\n",
    "print(id(c))\n",
    "print(id(d))\n",
    "print(id(e))"
   ]
  },
  {
   "cell_type": "code",
   "execution_count": 121,
   "id": "22a9d4a9-7631-44e4-9a64-da82dfe99d78",
   "metadata": {},
   "outputs": [
    {
     "data": {
      "text/plain": [
       "5"
      ]
     },
     "execution_count": 121,
     "metadata": {},
     "output_type": "execute_result"
    }
   ],
   "source": [
    " c.index(0, 4)"
   ]
  },
  {
   "cell_type": "code",
   "execution_count": 122,
   "id": "54d0a633-7f8f-47d8-8aa9-e65c087c0864",
   "metadata": {},
   "outputs": [
    {
     "data": {
      "text/plain": [
       "7"
      ]
     },
     "execution_count": 122,
     "metadata": {},
     "output_type": "execute_result"
    }
   ],
   "source": [
    " c.index(0, -2)"
   ]
  },
  {
   "cell_type": "code",
   "execution_count": null,
   "id": "93766ce8-b8b5-452a-95c2-acfdb429f861",
   "metadata": {},
   "outputs": [],
   "source": []
  }
 ],
 "metadata": {
  "kernelspec": {
   "display_name": "Python 3 (ipykernel)",
   "language": "python",
   "name": "python3"
  },
  "language_info": {
   "codemirror_mode": {
    "name": "ipython",
    "version": 3
   },
   "file_extension": ".py",
   "mimetype": "text/x-python",
   "name": "python",
   "nbconvert_exporter": "python",
   "pygments_lexer": "ipython3",
   "version": "3.10.13"
  }
 },
 "nbformat": 4,
 "nbformat_minor": 5
}
